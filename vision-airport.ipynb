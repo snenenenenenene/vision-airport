{
 "cells": [
  {
   "cell_type": "code",
   "execution_count": 1,
   "metadata": {},
   "outputs": [],
   "source": [
    "import os\n",
    "from dotenv import load_dotenv\n",
    "\n",
    "from pyspark.sql import functions as F, SparkSession\n",
    "from pyspark.sql.functions import col"
   ]
  },
  {
   "cell_type": "code",
   "execution_count": 2,
   "metadata": {},
   "outputs": [
    {
     "name": "stderr",
     "output_type": "stream",
     "text": [
      "21/12/15 10:39:55 WARN Utils: Your hostname, pop-os resolves to a loopback address: 127.0.1.1; using 192.168.0.4 instead (on interface enx00e04f7105c2)\n",
      "21/12/15 10:39:55 WARN Utils: Set SPARK_LOCAL_IP if you need to bind to another address\n",
      "WARNING: An illegal reflective access operation has occurred\n",
      "WARNING: Illegal reflective access by org.apache.spark.unsafe.Platform (file:/home/lenny/.local/share/miniconda3/envs/data-mining/lib/python3.9/site-packages/pyspark/jars/spark-unsafe_2.12-3.1.2.jar) to constructor java.nio.DirectByteBuffer(long,int)\n",
      "WARNING: Please consider reporting this to the maintainers of org.apache.spark.unsafe.Platform\n",
      "WARNING: Use --illegal-access=warn to enable warnings of further illegal reflective access operations\n",
      "WARNING: All illegal access operations will be denied in a future release\n"
     ]
    },
    {
     "name": "stdout",
     "output_type": "stream",
     "text": [
      ":: loading settings :: url = jar:file:/home/lenny/.local/share/miniconda3/envs/data-mining/lib/python3.9/site-packages/pyspark/jars/ivy-2.4.0.jar!/org/apache/ivy/core/settings/ivysettings.xml\n"
     ]
    },
    {
     "name": "stderr",
     "output_type": "stream",
     "text": [
      "Ivy Default Cache set to: /home/lenny/.ivy2/cache\n",
      "The jars for the packages stored in: /home/lenny/.ivy2/jars\n",
      "com.amazonaws#aws-java-sdk-bundle added as a dependency\n",
      "org.apache.hadoop#hadoop-aws added as a dependency\n",
      ":: resolving dependencies :: org.apache.spark#spark-submit-parent-ed94e0c5-ce5c-4832-81cb-f0d8fe4eb9e1;1.0\n",
      "\tconfs: [default]\n",
      "\tfound com.amazonaws#aws-java-sdk-bundle;1.11.271 in central\n",
      "\tfound io.netty#netty-codec-http;4.1.17.Final in central\n",
      "\tfound io.netty#netty-codec;4.1.17.Final in central\n",
      "\tfound io.netty#netty-transport;4.1.17.Final in central\n",
      "\tfound io.netty#netty-buffer;4.1.17.Final in central\n",
      "\tfound io.netty#netty-common;4.1.17.Final in central\n",
      "\tfound io.netty#netty-resolver;4.1.17.Final in central\n",
      "\tfound io.netty#netty-handler;4.1.17.Final in central\n",
      "\tfound org.apache.hadoop#hadoop-aws;3.1.2 in central\n",
      ":: resolution report :: resolve 373ms :: artifacts dl 11ms\n",
      "\t:: modules in use:\n",
      "\tcom.amazonaws#aws-java-sdk-bundle;1.11.271 from central in [default]\n",
      "\tio.netty#netty-buffer;4.1.17.Final from central in [default]\n",
      "\tio.netty#netty-codec;4.1.17.Final from central in [default]\n",
      "\tio.netty#netty-codec-http;4.1.17.Final from central in [default]\n",
      "\tio.netty#netty-common;4.1.17.Final from central in [default]\n",
      "\tio.netty#netty-handler;4.1.17.Final from central in [default]\n",
      "\tio.netty#netty-resolver;4.1.17.Final from central in [default]\n",
      "\tio.netty#netty-transport;4.1.17.Final from central in [default]\n",
      "\torg.apache.hadoop#hadoop-aws;3.1.2 from central in [default]\n",
      "\t---------------------------------------------------------------------\n",
      "\t|                  |            modules            ||   artifacts   |\n",
      "\t|       conf       | number| search|dwnlded|evicted|| number|dwnlded|\n",
      "\t---------------------------------------------------------------------\n",
      "\t|      default     |   9   |   0   |   0   |   0   ||   9   |   0   |\n",
      "\t---------------------------------------------------------------------\n",
      ":: retrieving :: org.apache.spark#spark-submit-parent-ed94e0c5-ce5c-4832-81cb-f0d8fe4eb9e1\n",
      "\tconfs: [default]\n",
      "\t0 artifacts copied, 9 already retrieved (0kB/9ms)\n",
      "21/12/15 10:39:56 WARN NativeCodeLoader: Unable to load native-hadoop library for your platform... using builtin-java classes where applicable\n",
      "Using Spark's default log4j profile: org/apache/spark/log4j-defaults.properties\n",
      "Setting default log level to \"WARN\".\n",
      "To adjust logging level use sc.setLogLevel(newLevel). For SparkR, use setLogLevel(newLevel).\n"
     ]
    }
   ],
   "source": [
    "os.environ['PYSPARK_SUBMIT_ARGS'] = \"--packages=com.amazonaws:aws-java-sdk-bundle:1.11.271,org.apache.hadoop:hadoop-aws:3.1.2 pyspark-shell\"\n",
    "\n",
    "spark = SparkSession.builder.master(\"local\").appName(\"visie-luchthaven\").getOrCreate()\n",
    "\n",
    "load_dotenv()\n",
    "\n",
    "ACCESS_KEY = os.environ.get(\"ACCESS_KEY\")\n",
    "SECRET_KEY = os.environ.get(\"SECRET_KEY\")\n",
    "ENDPOINT = os.environ.get(\"ENDPOINT\")\n",
    "\n",
    "spark.conf.set(\"spark.sql.repl.eagerEval.enabled\", True)\n",
    "spark.conf.set(\"fs.s3a.access.key\", ACCESS_KEY)\n",
    "spark.conf.set(\"fs.s3a.secret.key\", SECRET_KEY)\n",
    "spark.conf.set(\"fs.s3a.endpoint\", ENDPOINT)\n",
    "spark.conf.set(\"spark.sql.caseSensitive\",\"true\")\n"
   ]
  },
  {
   "cell_type": "code",
   "execution_count": 3,
   "metadata": {},
   "outputs": [],
   "source": [
    "BUCKET = \"s3a://ap-project-big-data-2021/BD-01/cleansed/\""
   ]
  },
  {
   "cell_type": "markdown",
   "metadata": {},
   "source": [
    "# Aankomst"
   ]
  },
  {
   "cell_type": "code",
   "execution_count": 4,
   "metadata": {},
   "outputs": [
    {
     "name": "stderr",
     "output_type": "stream",
     "text": [
      "21/12/15 10:40:00 WARN MetricsConfig: Cannot locate configuration: tried hadoop-metrics2-s3a-file-system.properties,hadoop-metrics2.properties\n",
      "                                                                                \r"
     ]
    },
    {
     "data": {
      "text/html": [
       "<table border='1'>\n",
       "<tr><th>Vluchtid</th><th>Vliegtuigcode</th><th>Terminal</th><th>Gate</th><th>Baan</th><th>Bezetting</th><th>Vracht</th><th>Aankomsttijd</th><th>Aankomstmaand</th><th>Aankomstdag</th></tr>\n",
       "<tr><td>1025306</td><td>VGA4943</td><td>D</td><td>D2</td><td>4</td><td>98</td><td>null</td><td>2014-07-09 00:16:00</td><td>7</td><td>9</td></tr>\n",
       "<tr><td>1025313</td><td>VFR735</td><td>A</td><td>A1</td><td>4</td><td>94</td><td>null</td><td>2014-07-09 03:29:00</td><td>7</td><td>9</td></tr>\n",
       "<tr><td>1025329</td><td>VHV303</td><td>A</td><td>A2</td><td>4</td><td>100</td><td>null</td><td>2014-07-09 04:15:00</td><td>7</td><td>9</td></tr>\n",
       "<tr><td>1025330</td><td>VKL301</td><td>C</td><td>C1</td><td>4</td><td>99</td><td>null</td><td>2014-07-09 04:15:00</td><td>7</td><td>9</td></tr>\n",
       "<tr><td>1025334</td><td>VKL859</td><td>C</td><td>C2</td><td>4</td><td>93</td><td>null</td><td>2014-07-09 04:30:00</td><td>7</td><td>9</td></tr>\n",
       "<tr><td>1025335</td><td>VTK505</td><td>B</td><td>B5</td><td>4</td><td>94</td><td>null</td><td>2014-07-09 04:33:00</td><td>7</td><td>9</td></tr>\n",
       "<tr><td>1025336</td><td>VHV463</td><td>A</td><td>A3</td><td>4</td><td>100</td><td>null</td><td>2014-07-09 04:34:00</td><td>7</td><td>9</td></tr>\n",
       "<tr><td>1025339</td><td>VFR713</td><td>A</td><td>A1</td><td>4</td><td>99</td><td>null</td><td>2014-07-09 04:47:00</td><td>7</td><td>9</td></tr>\n",
       "<tr><td>1025342</td><td>VEZY211</td><td>C</td><td>C4</td><td>4</td><td>94</td><td>null</td><td>2014-07-09 04:58:00</td><td>7</td><td>9</td></tr>\n",
       "<tr><td>1025346</td><td>VKL2761</td><td>E</td><td>E2</td><td>4</td><td>96</td><td>null</td><td>2014-07-09 05:20:00</td><td>7</td><td>9</td></tr>\n",
       "<tr><td>1025347</td><td>VA3599</td><td>A</td><td>A6</td><td>4</td><td>91</td><td>null</td><td>2014-07-09 05:24:00</td><td>7</td><td>9</td></tr>\n",
       "<tr><td>1025350</td><td>VKL447</td><td>C</td><td>C1</td><td>4</td><td>94</td><td>null</td><td>2014-07-09 05:39:00</td><td>7</td><td>9</td></tr>\n",
       "<tr><td>1025352</td><td>VEZY237</td><td>C</td><td>C5</td><td>4</td><td>99</td><td>null</td><td>2014-07-09 05:42:00</td><td>7</td><td>9</td></tr>\n",
       "<tr><td>1025353</td><td>VHV573</td><td>A</td><td>A2</td><td>4</td><td>93</td><td>null</td><td>2014-07-09 05:45:00</td><td>7</td><td>9</td></tr>\n",
       "<tr><td>1025354</td><td>VIB667</td><td>C</td><td>C7</td><td>4</td><td>100</td><td>null</td><td>2014-07-09 05:48:00</td><td>7</td><td>9</td></tr>\n",
       "<tr><td>1025356</td><td>VKL5715</td><td>E</td><td>E1</td><td>4</td><td>94</td><td>null</td><td>2014-07-09 06:00:00</td><td>7</td><td>9</td></tr>\n",
       "<tr><td>1025357</td><td>VHV243</td><td>A</td><td>A3</td><td>4</td><td>98</td><td>null</td><td>2014-07-09 06:00:00</td><td>7</td><td>9</td></tr>\n",
       "<tr><td>1025358</td><td>VMPH6915</td><td>F</td><td>null</td><td>4</td><td>null</td><td>49</td><td>2014-07-09 06:01:00</td><td>7</td><td>9</td></tr>\n",
       "<tr><td>1025359</td><td>VFR455</td><td>A</td><td>A1</td><td>4</td><td>96</td><td>null</td><td>2014-07-09 06:07:00</td><td>7</td><td>9</td></tr>\n",
       "<tr><td>1025360</td><td>VKL85</td><td>C</td><td>C2</td><td>4</td><td>88</td><td>null</td><td>2014-07-09 06:07:00</td><td>7</td><td>9</td></tr>\n",
       "</table>\n",
       "only showing top 20 rows\n"
      ],
      "text/plain": [
       "+--------+-------------+--------+----+----+---------+------+-------------------+-------------+-----------+\n",
       "|Vluchtid|Vliegtuigcode|Terminal|Gate|Baan|Bezetting|Vracht|       Aankomsttijd|Aankomstmaand|Aankomstdag|\n",
       "+--------+-------------+--------+----+----+---------+------+-------------------+-------------+-----------+\n",
       "| 1025306|      VGA4943|       D|  D2|   4|       98|  null|2014-07-09 00:16:00|            7|          9|\n",
       "| 1025313|       VFR735|       A|  A1|   4|       94|  null|2014-07-09 03:29:00|            7|          9|\n",
       "| 1025329|       VHV303|       A|  A2|   4|      100|  null|2014-07-09 04:15:00|            7|          9|\n",
       "| 1025330|       VKL301|       C|  C1|   4|       99|  null|2014-07-09 04:15:00|            7|          9|\n",
       "| 1025334|       VKL859|       C|  C2|   4|       93|  null|2014-07-09 04:30:00|            7|          9|\n",
       "| 1025335|       VTK505|       B|  B5|   4|       94|  null|2014-07-09 04:33:00|            7|          9|\n",
       "| 1025336|       VHV463|       A|  A3|   4|      100|  null|2014-07-09 04:34:00|            7|          9|\n",
       "| 1025339|       VFR713|       A|  A1|   4|       99|  null|2014-07-09 04:47:00|            7|          9|\n",
       "| 1025342|      VEZY211|       C|  C4|   4|       94|  null|2014-07-09 04:58:00|            7|          9|\n",
       "| 1025346|      VKL2761|       E|  E2|   4|       96|  null|2014-07-09 05:20:00|            7|          9|\n",
       "| 1025347|       VA3599|       A|  A6|   4|       91|  null|2014-07-09 05:24:00|            7|          9|\n",
       "| 1025350|       VKL447|       C|  C1|   4|       94|  null|2014-07-09 05:39:00|            7|          9|\n",
       "| 1025352|      VEZY237|       C|  C5|   4|       99|  null|2014-07-09 05:42:00|            7|          9|\n",
       "| 1025353|       VHV573|       A|  A2|   4|       93|  null|2014-07-09 05:45:00|            7|          9|\n",
       "| 1025354|       VIB667|       C|  C7|   4|      100|  null|2014-07-09 05:48:00|            7|          9|\n",
       "| 1025356|      VKL5715|       E|  E1|   4|       94|  null|2014-07-09 06:00:00|            7|          9|\n",
       "| 1025357|       VHV243|       A|  A3|   4|       98|  null|2014-07-09 06:00:00|            7|          9|\n",
       "| 1025358|     VMPH6915|       F|null|   4|     null|    49|2014-07-09 06:01:00|            7|          9|\n",
       "| 1025359|       VFR455|       A|  A1|   4|       96|  null|2014-07-09 06:07:00|            7|          9|\n",
       "| 1025360|        VKL85|       C|  C2|   4|       88|  null|2014-07-09 06:07:00|            7|          9|\n",
       "+--------+-------------+--------+----+----+---------+------+-------------------+-------------+-----------+\n",
       "only showing top 20 rows"
      ]
     },
     "execution_count": 4,
     "metadata": {},
     "output_type": "execute_result"
    }
   ],
   "source": [
    "aankomst_df = spark.read.parquet(BUCKET + \"aankomst.parquet/Aankomstjaar=2014\")\n",
    "aankomst_df"
   ]
  },
  {
   "cell_type": "markdown",
   "metadata": {},
   "source": [
    "# Airport"
   ]
  },
  {
   "cell_type": "code",
   "execution_count": 5,
   "metadata": {},
   "outputs": [
    {
     "name": "stderr",
     "output_type": "stream",
     "text": [
      "                                                                                \r"
     ]
    },
    {
     "data": {
      "text/html": [
       "<table border='1'>\n",
       "<tr><th>Airport</th><th>City</th><th>Country</th><th>IATA</th><th>ICAO</th><th>Lat</th><th>Lon</th><th>Alt</th><th>TZ</th><th>DST</th><th>Tz</th></tr>\n",
       "<tr><td>Bamyan Airport</td><td>Bamyan</td><td>Afghanistan</td><td>BIN</td><td>OABN</td><td>34.816666</td><td>67.816666</td><td>2550</td><td>4.5</td><td>N</td><td>Asia/Kabul</td></tr>\n",
       "<tr><td>Camp Bastion </td><td>Camp Bastion</td><td>Afghanistan</td><td>null</td><td>OAZI</td><td>31.865557</td><td>64.195274</td><td>2808</td><td>4.5</td><td>N</td><td>Asia/Kabul</td></tr>\n",
       "<tr><td>Chaghcharan Airport</td><td>Chaghcharan</td><td>Afghanistan</td><td>CCN</td><td>OACC</td><td>34.52667</td><td>65.27167</td><td>7383</td><td>4.5</td><td>U</td><td>Asia/Kabul</td></tr>\n",
       "<tr><td>Faizabad Airport</td><td>Faizabad</td><td>Afghanistan</td><td>FBD</td><td>OAFZ</td><td>37.1211</td><td>70.5181</td><td>3872</td><td>4.5</td><td>U</td><td>Asia/Kabul</td></tr>\n",
       "<tr><td>Herat</td><td>Herat</td><td>Afghanistan</td><td>HEA</td><td>OAHR</td><td>34.21002</td><td>62.2283</td><td>3206</td><td>4.5</td><td>U</td><td>Asia/Kabul</td></tr>\n",
       "<tr><td>Jalalabad</td><td>Jalalabad</td><td>Afghanistan</td><td>JAA</td><td>OAJL</td><td>34.39984</td><td>70.49863</td><td>1814</td><td>4.5</td><td>U</td><td>Asia/Kabul</td></tr>\n",
       "<tr><td>Bagram AFB</td><td>Kabul</td><td>Afghanistan</td><td>BPM</td><td>OAIX</td><td>34.5646</td><td>69.1554</td><td>4895</td><td>4.5</td><td>U</td><td>Asia/Kabul</td></tr>\n",
       "<tr><td>Kabul Intl</td><td>Kabul</td><td>Afghanistan</td><td>KBL</td><td>OAKB</td><td>34.565853</td><td>69.212326</td><td>5877</td><td>4.5</td><td>U</td><td>Asia/Kabul</td></tr>\n",
       "<tr><td>Kandahar</td><td>Kandahar</td><td>Afghanistan</td><td>KDH</td><td>OAKN</td><td>31.505756</td><td>65.847824</td><td>3337</td><td>4.5</td><td>U</td><td>Asia/Kabul</td></tr>\n",
       "<tr><td>FOB Salerno</td><td>Khost</td><td>Afghanistan</td><td>KHT</td><td>OAKS</td><td>33.3334</td><td>69.952</td><td>3756</td><td>4.5</td><td>N</td><td>Asia/Kabul</td></tr>\n",
       "<tr><td>Konduz</td><td>Kunduz</td><td>Afghanistan</td><td>UND</td><td>OAUZ</td><td>36.66511</td><td>68.910835</td><td>1457</td><td>4.5</td><td>U</td><td>Asia/Kabul</td></tr>\n",
       "<tr><td>Bost Airport</td><td>Lashkar Gah</td><td>Afghanistan</td><td>BST</td><td>OABT</td><td>31.55889</td><td>64.36417</td><td>2464</td><td>4.5</td><td>U</td><td>Asia/Kabul</td></tr>\n",
       "<tr><td>Maimana</td><td>Maimama</td><td>Afghanistan</td><td>MMZ</td><td>OAMN</td><td>35.93079</td><td>64.76092</td><td>2743</td><td>4.5</td><td>U</td><td>Asia/Kabul</td></tr>\n",
       "<tr><td>Mazar I Sharif</td><td>Mazar-i-sharif</td><td>Afghanistan</td><td>MZR</td><td>OAMS</td><td>36.706913</td><td>67.20968</td><td>1284</td><td>4.5</td><td>U</td><td>Asia/Kabul</td></tr>\n",
       "<tr><td>FOB Shank</td><td>Shank</td><td>Afghanistan</td><td>null</td><td>OASH</td><td>33.921368</td><td>69.07813</td><td>6614</td><td>4.5</td><td>N</td><td>Asia/Kabul</td></tr>\n",
       "<tr><td>FOB Sharana</td><td>Sharan</td><td>Afghanistan</td><td>null</td><td>\\N</td><td>33.127773</td><td>68.83698</td><td>7400</td><td>4.5</td><td>N</td><td>Asia/Kabul</td></tr>\n",
       "<tr><td>Sharona</td><td>Sharona</td><td>Afghanistan</td><td>AZ3</td><td>OASA</td><td>33.12772</td><td>68.83698</td><td>7400</td><td>4.5</td><td>N</td><td>Asia/Kabul</td></tr>\n",
       "<tr><td>Sheberghan</td><td>Sheberghan</td><td>Afghanistan</td><td>null</td><td>OASG</td><td>36.750782</td><td>65.91316</td><td>1053</td><td>4.5</td><td>U</td><td>Asia/Kabul</td></tr>\n",
       "<tr><td>Shindand</td><td>Shindand</td><td>Afghanistan</td><td>null</td><td>OASD</td><td>33.39133</td><td>62.260975</td><td>3773</td><td>4.5</td><td>U</td><td>Asia/Kabul</td></tr>\n",
       "<tr><td>Tarin Kowt Airport</td><td>Tarin Kowt</td><td>Afghanistan</td><td>TII</td><td>OATN</td><td>32.605278</td><td>65.86417</td><td>3500</td><td>4.5</td><td>U</td><td>Asia/Kabul</td></tr>\n",
       "</table>\n",
       "only showing top 20 rows\n"
      ],
      "text/plain": [
       "+-------------------+--------------+-----------+----+----+---------+---------+----+---+---+----------+\n",
       "|            Airport|          City|    Country|IATA|ICAO|      Lat|      Lon| Alt| TZ|DST|        Tz|\n",
       "+-------------------+--------------+-----------+----+----+---------+---------+----+---+---+----------+\n",
       "|     Bamyan Airport|        Bamyan|Afghanistan| BIN|OABN|34.816666|67.816666|2550|4.5|  N|Asia/Kabul|\n",
       "|      Camp Bastion |  Camp Bastion|Afghanistan|null|OAZI|31.865557|64.195274|2808|4.5|  N|Asia/Kabul|\n",
       "|Chaghcharan Airport|   Chaghcharan|Afghanistan| CCN|OACC| 34.52667| 65.27167|7383|4.5|  U|Asia/Kabul|\n",
       "|   Faizabad Airport|      Faizabad|Afghanistan| FBD|OAFZ|  37.1211|  70.5181|3872|4.5|  U|Asia/Kabul|\n",
       "|              Herat|         Herat|Afghanistan| HEA|OAHR| 34.21002|  62.2283|3206|4.5|  U|Asia/Kabul|\n",
       "|          Jalalabad|     Jalalabad|Afghanistan| JAA|OAJL| 34.39984| 70.49863|1814|4.5|  U|Asia/Kabul|\n",
       "|         Bagram AFB|         Kabul|Afghanistan| BPM|OAIX|  34.5646|  69.1554|4895|4.5|  U|Asia/Kabul|\n",
       "|         Kabul Intl|         Kabul|Afghanistan| KBL|OAKB|34.565853|69.212326|5877|4.5|  U|Asia/Kabul|\n",
       "|           Kandahar|      Kandahar|Afghanistan| KDH|OAKN|31.505756|65.847824|3337|4.5|  U|Asia/Kabul|\n",
       "|        FOB Salerno|         Khost|Afghanistan| KHT|OAKS|  33.3334|   69.952|3756|4.5|  N|Asia/Kabul|\n",
       "|             Konduz|        Kunduz|Afghanistan| UND|OAUZ| 36.66511|68.910835|1457|4.5|  U|Asia/Kabul|\n",
       "|       Bost Airport|   Lashkar Gah|Afghanistan| BST|OABT| 31.55889| 64.36417|2464|4.5|  U|Asia/Kabul|\n",
       "|            Maimana|       Maimama|Afghanistan| MMZ|OAMN| 35.93079| 64.76092|2743|4.5|  U|Asia/Kabul|\n",
       "|     Mazar I Sharif|Mazar-i-sharif|Afghanistan| MZR|OAMS|36.706913| 67.20968|1284|4.5|  U|Asia/Kabul|\n",
       "|          FOB Shank|         Shank|Afghanistan|null|OASH|33.921368| 69.07813|6614|4.5|  N|Asia/Kabul|\n",
       "|        FOB Sharana|        Sharan|Afghanistan|null|  \\N|33.127773| 68.83698|7400|4.5|  N|Asia/Kabul|\n",
       "|            Sharona|       Sharona|Afghanistan| AZ3|OASA| 33.12772| 68.83698|7400|4.5|  N|Asia/Kabul|\n",
       "|         Sheberghan|    Sheberghan|Afghanistan|null|OASG|36.750782| 65.91316|1053|4.5|  U|Asia/Kabul|\n",
       "|           Shindand|      Shindand|Afghanistan|null|OASD| 33.39133|62.260975|3773|4.5|  U|Asia/Kabul|\n",
       "| Tarin Kowt Airport|    Tarin Kowt|Afghanistan| TII|OATN|32.605278| 65.86417|3500|4.5|  U|Asia/Kabul|\n",
       "+-------------------+--------------+-----------+----+----+---------+---------+----+---+---+----------+\n",
       "only showing top 20 rows"
      ]
     },
     "execution_count": 5,
     "metadata": {},
     "output_type": "execute_result"
    }
   ],
   "source": [
    "airport_df = spark.read.parquet(BUCKET + \"airport.parquet\")\n",
    "airport_df"
   ]
  },
  {
   "cell_type": "markdown",
   "metadata": {},
   "source": [
    "# Banen"
   ]
  },
  {
   "cell_type": "code",
   "execution_count": 6,
   "metadata": {},
   "outputs": [
    {
     "data": {
      "text/html": [
       "<table border='1'>\n",
       "<tr><th>Baannummer</th><th>Code</th><th>Naam</th><th>Lengte</th></tr>\n",
       "<tr><td>1</td><td>09-27</td><td>Marloes Boumansbaan</td><td>3200</td></tr>\n",
       "<tr><td>2</td><td>18R-36L</td><td>Joost van den Bem...</td><td>3600</td></tr>\n",
       "<tr><td>3</td><td>18L-36R</td><td>Frank de Ruijterbaan</td><td>4000</td></tr>\n",
       "<tr><td>4</td><td>18C-36C</td><td>Stépan Breedveldbaan</td><td>3500</td></tr>\n",
       "<tr><td>5</td><td>06-24</td><td>Hans Dellebekebaan</td><td>3500</td></tr>\n",
       "<tr><td>6</td><td>04-22</td><td>Sjoerd Eversbaan</td><td>2200</td></tr>\n",
       "</table>\n"
      ],
      "text/plain": [
       "+----------+-------+--------------------+------+\n",
       "|Baannummer|   Code|                Naam|Lengte|\n",
       "+----------+-------+--------------------+------+\n",
       "|         1|  09-27| Marloes Boumansbaan|  3200|\n",
       "|         2|18R-36L|Joost van den Bem...|  3600|\n",
       "|         3|18L-36R|Frank de Ruijterbaan|  4000|\n",
       "|         4|18C-36C|Stépan Breedveldbaan|  3500|\n",
       "|         5|  06-24|  Hans Dellebekebaan|  3500|\n",
       "|         6|  04-22|    Sjoerd Eversbaan|  2200|\n",
       "+----------+-------+--------------------+------+"
      ]
     },
     "execution_count": 6,
     "metadata": {},
     "output_type": "execute_result"
    }
   ],
   "source": [
    "banen_df = spark.read.parquet(BUCKET + \"banen.parquet\")\n",
    "banen_df"
   ]
  },
  {
   "cell_type": "markdown",
   "metadata": {},
   "source": [
    "# Customers"
   ]
  },
  {
   "cell_type": "code",
   "execution_count": 7,
   "metadata": {},
   "outputs": [
    {
     "data": {
      "text/html": [
       "<table border='1'>\n",
       "<tr><th>id</th><th>operation</th><th>facilities</th><th>shops</th></tr>\n",
       "<tr><td>1317307</td><td>7.2</td><td>8.5</td><td>null</td></tr>\n",
       "<tr><td>1317327</td><td>7.4</td><td>8.0</td><td>null</td></tr>\n",
       "<tr><td>1317352</td><td>7.0</td><td>6.9</td><td>6.9</td></tr>\n",
       "<tr><td>1317395</td><td>6.5</td><td>7.3</td><td>7.0</td></tr>\n",
       "<tr><td>1317406</td><td>6.9</td><td>6.9</td><td>6.3</td></tr>\n",
       "<tr><td>1317488</td><td>6.4</td><td>5.2</td><td>6.8</td></tr>\n",
       "<tr><td>1317506</td><td>4.7</td><td>5.9</td><td>7.1</td></tr>\n",
       "<tr><td>1317508</td><td>6.7</td><td>8.5</td><td>6.2</td></tr>\n",
       "<tr><td>1317514</td><td>6.1</td><td>3.6</td><td>7.2</td></tr>\n",
       "<tr><td>1317559</td><td>6.0</td><td>7.6</td><td>6.6</td></tr>\n",
       "<tr><td>1317587</td><td>6.3</td><td>7.2</td><td>5.6</td></tr>\n",
       "<tr><td>1317629</td><td>6.9</td><td>4.1</td><td>6.2</td></tr>\n",
       "<tr><td>1317633</td><td>6.4</td><td>5.2</td><td>4.6</td></tr>\n",
       "<tr><td>1317646</td><td>6.3</td><td>6.4</td><td>5.5</td></tr>\n",
       "<tr><td>1317655</td><td>6.6</td><td>5.8</td><td>6.2</td></tr>\n",
       "<tr><td>1317712</td><td>5.4</td><td>8.0</td><td>6.2</td></tr>\n",
       "<tr><td>1317809</td><td>7.7</td><td>6.2</td><td>null</td></tr>\n",
       "<tr><td>1317811</td><td>6.9</td><td>6.0</td><td>null</td></tr>\n",
       "<tr><td>1317817</td><td>6.9</td><td>9.5</td><td>null</td></tr>\n",
       "<tr><td>1317902</td><td>7.6</td><td>4.5</td><td>5.9</td></tr>\n",
       "</table>\n",
       "only showing top 20 rows\n"
      ],
      "text/plain": [
       "+-------+---------+----------+-----+\n",
       "|     id|operation|facilities|shops|\n",
       "+-------+---------+----------+-----+\n",
       "|1317307|      7.2|       8.5| null|\n",
       "|1317327|      7.4|       8.0| null|\n",
       "|1317352|      7.0|       6.9|  6.9|\n",
       "|1317395|      6.5|       7.3|  7.0|\n",
       "|1317406|      6.9|       6.9|  6.3|\n",
       "|1317488|      6.4|       5.2|  6.8|\n",
       "|1317506|      4.7|       5.9|  7.1|\n",
       "|1317508|      6.7|       8.5|  6.2|\n",
       "|1317514|      6.1|       3.6|  7.2|\n",
       "|1317559|      6.0|       7.6|  6.6|\n",
       "|1317587|      6.3|       7.2|  5.6|\n",
       "|1317629|      6.9|       4.1|  6.2|\n",
       "|1317633|      6.4|       5.2|  4.6|\n",
       "|1317646|      6.3|       6.4|  5.5|\n",
       "|1317655|      6.6|       5.8|  6.2|\n",
       "|1317712|      5.4|       8.0|  6.2|\n",
       "|1317809|      7.7|       6.2| null|\n",
       "|1317811|      6.9|       6.0| null|\n",
       "|1317817|      6.9|       9.5| null|\n",
       "|1317902|      7.6|       4.5|  5.9|\n",
       "+-------+---------+----------+-----+\n",
       "only showing top 20 rows"
      ]
     },
     "execution_count": 7,
     "metadata": {},
     "output_type": "execute_result"
    }
   ],
   "source": [
    "customers_df = spark.read.parquet(BUCKET + \"customers.parquet\")\n",
    "customers_df"
   ]
  },
  {
   "cell_type": "markdown",
   "metadata": {},
   "source": [
    "# Maatschappijen"
   ]
  },
  {
   "cell_type": "code",
   "execution_count": 8,
   "metadata": {},
   "outputs": [
    {
     "data": {
      "text/html": [
       "<table border='1'>\n",
       "<tr><th>Name</th><th>IATA</th><th>ICAO</th></tr>\n",
       "<tr><td>Private flight</td><td>-</td><td>N/A</td></tr>\n",
       "<tr><td>Unknown</td><td>-</td><td>N/A</td></tr>\n",
       "<tr><td>ELK Airways</td><td>--</td><td>ELK</td></tr>\n",
       "<tr><td>Tom\\\\&#x27;s &amp; co airl...</td><td>&amp;T</td><td>T&amp;O</td></tr>\n",
       "<tr><td>Wilderness Air</td><td>;;</td><td>\\N</td></tr>\n",
       "<tr><td>Tyrolean Airways</td><td>\\N</td><td>TYR</td></tr>\n",
       "<tr><td>Whitaker Air</td><td>^^</td><td>\\N</td></tr>\n",
       "<tr><td>U.S. Air</td><td>-+</td><td>--+</td></tr>\n",
       "<tr><td>Bobb Air Freight</td><td>1</td><td>\\N</td></tr>\n",
       "<tr><td>Blue Air</td><td>0B</td><td>JOR</td></tr>\n",
       "<tr><td>Darwin Airline</td><td>0D</td><td>DWT</td></tr>\n",
       "<tr><td>Copenhagen Express</td><td>0X</td><td>CX0</td></tr>\n",
       "<tr><td>TUIfly (X3)</td><td>11</td><td>\\N</td></tr>\n",
       "<tr><td>12 North</td><td>12</td><td>N12</td></tr>\n",
       "<tr><td>Eastern Atlantic ...</td><td>13</td><td>EAV</td></tr>\n",
       "<tr><td>Abacus International</td><td>1B</td><td>null</td></tr>\n",
       "<tr><td>OneChina</td><td>1C</td><td>1CH</td></tr>\n",
       "<tr><td>CB Airways UK ( I...</td><td>1F</td><td>CIF</td></tr>\n",
       "<tr><td>NetJets</td><td>1I</td><td>EJA</td></tr>\n",
       "<tr><td>Novair</td><td>1I</td><td>NVR</td></tr>\n",
       "</table>\n",
       "only showing top 20 rows\n"
      ],
      "text/plain": [
       "+--------------------+----+----+\n",
       "|                Name|IATA|ICAO|\n",
       "+--------------------+----+----+\n",
       "|      Private flight|   -| N/A|\n",
       "|             Unknown|   -| N/A|\n",
       "|         ELK Airways|  --| ELK|\n",
       "|Tom\\\\'s & co airl...|  &T| T&O|\n",
       "|      Wilderness Air|  ;;|  \\N|\n",
       "|    Tyrolean Airways|  \\N| TYR|\n",
       "|        Whitaker Air|  ^^|  \\N|\n",
       "|            U.S. Air|  -+| --+|\n",
       "|    Bobb Air Freight|   1|  \\N|\n",
       "|            Blue Air|  0B| JOR|\n",
       "|      Darwin Airline|  0D| DWT|\n",
       "|  Copenhagen Express|  0X| CX0|\n",
       "|         TUIfly (X3)|  11|  \\N|\n",
       "|            12 North|  12| N12|\n",
       "|Eastern Atlantic ...|  13| EAV|\n",
       "|Abacus International|  1B|null|\n",
       "|            OneChina|  1C| 1CH|\n",
       "|CB Airways UK ( I...|  1F| CIF|\n",
       "|             NetJets|  1I| EJA|\n",
       "|              Novair|  1I| NVR|\n",
       "+--------------------+----+----+\n",
       "only showing top 20 rows"
      ]
     },
     "execution_count": 8,
     "metadata": {},
     "output_type": "execute_result"
    }
   ],
   "source": [
    "maatschappijen_df = spark.read.parquet(BUCKET + \"maatschappijen.parquet\")\n",
    "maatschappijen_df"
   ]
  },
  {
   "cell_type": "markdown",
   "metadata": {},
   "source": [
    "# Planning"
   ]
  },
  {
   "cell_type": "code",
   "execution_count": 9,
   "metadata": {},
   "outputs": [
    {
     "data": {
      "text/html": [
       "<table border='1'>\n",
       "<tr><th>Vluchtnr</th><th>Airlinecode</th><th>Destcode</th><th>Planterminal</th><th>Plangate</th><th>Plantijd</th></tr>\n",
       "<tr><td>9W2888</td><td>9W</td><td>DEL</td><td>D</td><td>D2</td><td>2:10 PM</td></tr>\n",
       "<tr><td>9W2889</td><td>9W</td><td>DEL</td><td>D</td><td>D2</td><td>3:25 PM</td></tr>\n",
       "<tr><td>A3598</td><td>A3</td><td>ATH</td><td>A</td><td>A6</td><td>5:10 AM</td></tr>\n",
       "<tr><td>A3599</td><td>A3</td><td>ATH</td><td>A</td><td>A6</td><td>5:55 AM</td></tr>\n",
       "<tr><td>A3600</td><td>A3</td><td>ATH</td><td>A</td><td>A6</td><td>2:45 PM</td></tr>\n",
       "<tr><td>A3601</td><td>A3</td><td>ATH</td><td>A</td><td>A6</td><td>3:30 PM</td></tr>\n",
       "<tr><td>A3620</td><td>A3</td><td>ATH</td><td>A</td><td>A6</td><td>8:05 AM</td></tr>\n",
       "<tr><td>A3621</td><td>A3</td><td>ATH</td><td>A</td><td>A6</td><td>8:50 AM</td></tr>\n",
       "<tr><td>A3622</td><td>A3</td><td>ATH</td><td>A</td><td>A6</td><td>8:50 PM</td></tr>\n",
       "<tr><td>A3623</td><td>A3</td><td>ATH</td><td>A</td><td>A6</td><td>9:35 PM</td></tr>\n",
       "<tr><td>AA1260</td><td>AA</td><td>LAS</td><td>D</td><td>D6</td><td>9:20 AM</td></tr>\n",
       "<tr><td>AA1261</td><td>AA</td><td>LAS</td><td>D</td><td>D6</td><td>10:35 AM</td></tr>\n",
       "<tr><td>AC1020</td><td>AC</td><td>YYZ</td><td>D</td><td>D6</td><td>11:20 PM</td></tr>\n",
       "<tr><td>AC1021</td><td>AC</td><td>YYZ</td><td>D</td><td>D6</td><td>2:50 AM</td></tr>\n",
       "<tr><td>AF396</td><td>AF</td><td>CDG</td><td>C</td><td>C6</td><td>11:15 AM</td></tr>\n",
       "<tr><td>AF397</td><td>AF</td><td>CDG</td><td>C</td><td>C6</td><td>12:00 PM</td></tr>\n",
       "<tr><td>AF398</td><td>AF</td><td>CDG</td><td>C</td><td>C6</td><td>8:50 PM</td></tr>\n",
       "<tr><td>AF399</td><td>AF</td><td>CDG</td><td>C</td><td>C6</td><td>9:35 PM</td></tr>\n",
       "<tr><td>AF478</td><td>AF</td><td>SXB</td><td>C</td><td>C6</td><td>12:45 PM</td></tr>\n",
       "<tr><td>AF479</td><td>AF</td><td>SXB</td><td>C</td><td>C6</td><td>1:30 PM</td></tr>\n",
       "</table>\n",
       "only showing top 20 rows\n"
      ],
      "text/plain": [
       "+--------+-----------+--------+------------+--------+--------+\n",
       "|Vluchtnr|Airlinecode|Destcode|Planterminal|Plangate|Plantijd|\n",
       "+--------+-----------+--------+------------+--------+--------+\n",
       "|  9W2888|         9W|     DEL|           D|      D2| 2:10 PM|\n",
       "|  9W2889|         9W|     DEL|           D|      D2| 3:25 PM|\n",
       "|   A3598|         A3|     ATH|           A|      A6| 5:10 AM|\n",
       "|   A3599|         A3|     ATH|           A|      A6| 5:55 AM|\n",
       "|   A3600|         A3|     ATH|           A|      A6| 2:45 PM|\n",
       "|   A3601|         A3|     ATH|           A|      A6| 3:30 PM|\n",
       "|   A3620|         A3|     ATH|           A|      A6| 8:05 AM|\n",
       "|   A3621|         A3|     ATH|           A|      A6| 8:50 AM|\n",
       "|   A3622|         A3|     ATH|           A|      A6| 8:50 PM|\n",
       "|   A3623|         A3|     ATH|           A|      A6| 9:35 PM|\n",
       "|  AA1260|         AA|     LAS|           D|      D6| 9:20 AM|\n",
       "|  AA1261|         AA|     LAS|           D|      D6|10:35 AM|\n",
       "|  AC1020|         AC|     YYZ|           D|      D6|11:20 PM|\n",
       "|  AC1021|         AC|     YYZ|           D|      D6| 2:50 AM|\n",
       "|   AF396|         AF|     CDG|           C|      C6|11:15 AM|\n",
       "|   AF397|         AF|     CDG|           C|      C6|12:00 PM|\n",
       "|   AF398|         AF|     CDG|           C|      C6| 8:50 PM|\n",
       "|   AF399|         AF|     CDG|           C|      C6| 9:35 PM|\n",
       "|   AF478|         AF|     SXB|           C|      C6|12:45 PM|\n",
       "|   AF479|         AF|     SXB|           C|      C6| 1:30 PM|\n",
       "+--------+-----------+--------+------------+--------+--------+\n",
       "only showing top 20 rows"
      ]
     },
     "execution_count": 9,
     "metadata": {},
     "output_type": "execute_result"
    }
   ],
   "source": [
    "planning_df = spark.read.parquet(BUCKET + \"planning.parquet\")\n",
    "planning_df"
   ]
  },
  {
   "cell_type": "markdown",
   "metadata": {},
   "source": [
    "# Vertrek"
   ]
  },
  {
   "cell_type": "code",
   "execution_count": 10,
   "metadata": {},
   "outputs": [
    {
     "name": "stderr",
     "output_type": "stream",
     "text": [
      "                                                                                \r"
     ]
    },
    {
     "data": {
      "text/html": [
       "<table border='1'>\n",
       "<tr><th>Vluchtid</th><th>Vliegtuigcode</th><th>Terminal</th><th>Gate</th><th>Baan</th><th>Bezetting</th><th>Vracht</th><th>Vertrektijd</th><th>Vertrekjaar</th><th>Vertrekmaand</th><th>Vertrekdag</th></tr>\n",
       "<tr><td>936435</td><td>VKL133</td><td>C</td><td>null</td><td>2</td><td>84</td><td>null</td><td>null</td><td>null</td><td>null</td><td>null</td></tr>\n",
       "<tr><td>936437</td><td>VKL189</td><td>C</td><td>null</td><td>2</td><td>81</td><td>null</td><td>null</td><td>null</td><td>null</td><td>null</td></tr>\n",
       "<tr><td>936855</td><td>VHV381</td><td>A</td><td>null</td><td>3</td><td>50</td><td>null</td><td>null</td><td>null</td><td>null</td><td>null</td></tr>\n",
       "<tr><td>936857</td><td>VSK871</td><td>B</td><td>null</td><td>3</td><td>84</td><td>null</td><td>null</td><td>null</td><td>null</td><td>null</td></tr>\n",
       "<tr><td>936859</td><td>VJP383</td><td>A</td><td>null</td><td>3</td><td>82</td><td>null</td><td>null</td><td>null</td><td>null</td><td>null</td></tr>\n",
       "<tr><td>937292</td><td>VKL645</td><td>C</td><td>null</td><td>1</td><td>82</td><td>null</td><td>null</td><td>null</td><td>null</td><td>null</td></tr>\n",
       "<tr><td>937294</td><td>VKL189</td><td>C</td><td>null</td><td>1</td><td>84</td><td>null</td><td>null</td><td>null</td><td>null</td><td>null</td></tr>\n",
       "<tr><td>937296</td><td>VTK297</td><td>B</td><td>null</td><td>1</td><td>65</td><td>null</td><td>null</td><td>null</td><td>null</td><td>null</td></tr>\n",
       "<tr><td>937698</td><td>VHV25</td><td>A</td><td>null</td><td>3</td><td>55</td><td>null</td><td>null</td><td>null</td><td>null</td><td>null</td></tr>\n",
       "<tr><td>937700</td><td>VHV651</td><td>A</td><td>null</td><td>3</td><td>85</td><td>null</td><td>null</td><td>null</td><td>null</td><td>null</td></tr>\n",
       "<tr><td>938136</td><td>VEZY727</td><td>C</td><td>null</td><td>3</td><td>58</td><td>null</td><td>null</td><td>null</td><td>null</td><td>null</td></tr>\n",
       "<tr><td>938138</td><td>VKL5011</td><td>E</td><td>null</td><td>3</td><td>67</td><td>null</td><td>null</td><td>null</td><td>null</td><td>null</td></tr>\n",
       "<tr><td>938140</td><td>VKL427</td><td>C</td><td>null</td><td>3</td><td>72</td><td>null</td><td>null</td><td>null</td><td>null</td><td>null</td></tr>\n",
       "<tr><td>938572</td><td>VKL2761</td><td>E</td><td>null</td><td>3</td><td>72</td><td>null</td><td>null</td><td>null</td><td>null</td><td>null</td></tr>\n",
       "<tr><td>938574</td><td>VFR175</td><td>A</td><td>null</td><td>3</td><td>71</td><td>null</td><td>null</td><td>null</td><td>null</td><td>null</td></tr>\n",
       "<tr><td>939001</td><td>VFB469</td><td>A</td><td>null</td><td>3</td><td>79</td><td>null</td><td>null</td><td>null</td><td>null</td><td>null</td></tr>\n",
       "<tr><td>939410</td><td>VUA2363</td><td>E</td><td>null</td><td>5</td><td>85</td><td>null</td><td>null</td><td>null</td><td>null</td><td>null</td></tr>\n",
       "<tr><td>939828</td><td>VSK75</td><td>B</td><td>null</td><td>2</td><td>79</td><td>null</td><td>null</td><td>null</td><td>null</td><td>null</td></tr>\n",
       "<tr><td>939830</td><td>VAF397</td><td>C</td><td>null</td><td>2</td><td>66</td><td>null</td><td>null</td><td>null</td><td>null</td><td>null</td></tr>\n",
       "<tr><td>939832</td><td>VDY643</td><td>C</td><td>null</td><td>2</td><td>82</td><td>null</td><td>null</td><td>null</td><td>null</td><td>null</td></tr>\n",
       "</table>\n",
       "only showing top 20 rows\n"
      ],
      "text/plain": [
       "+--------+-------------+--------+----+----+---------+------+-----------+-----------+------------+----------+\n",
       "|Vluchtid|Vliegtuigcode|Terminal|Gate|Baan|Bezetting|Vracht|Vertrektijd|Vertrekjaar|Vertrekmaand|Vertrekdag|\n",
       "+--------+-------------+--------+----+----+---------+------+-----------+-----------+------------+----------+\n",
       "|  936435|       VKL133|       C|null|   2|       84|  null|       null|       null|        null|      null|\n",
       "|  936437|       VKL189|       C|null|   2|       81|  null|       null|       null|        null|      null|\n",
       "|  936855|       VHV381|       A|null|   3|       50|  null|       null|       null|        null|      null|\n",
       "|  936857|       VSK871|       B|null|   3|       84|  null|       null|       null|        null|      null|\n",
       "|  936859|       VJP383|       A|null|   3|       82|  null|       null|       null|        null|      null|\n",
       "|  937292|       VKL645|       C|null|   1|       82|  null|       null|       null|        null|      null|\n",
       "|  937294|       VKL189|       C|null|   1|       84|  null|       null|       null|        null|      null|\n",
       "|  937296|       VTK297|       B|null|   1|       65|  null|       null|       null|        null|      null|\n",
       "|  937698|        VHV25|       A|null|   3|       55|  null|       null|       null|        null|      null|\n",
       "|  937700|       VHV651|       A|null|   3|       85|  null|       null|       null|        null|      null|\n",
       "|  938136|      VEZY727|       C|null|   3|       58|  null|       null|       null|        null|      null|\n",
       "|  938138|      VKL5011|       E|null|   3|       67|  null|       null|       null|        null|      null|\n",
       "|  938140|       VKL427|       C|null|   3|       72|  null|       null|       null|        null|      null|\n",
       "|  938572|      VKL2761|       E|null|   3|       72|  null|       null|       null|        null|      null|\n",
       "|  938574|       VFR175|       A|null|   3|       71|  null|       null|       null|        null|      null|\n",
       "|  939001|       VFB469|       A|null|   3|       79|  null|       null|       null|        null|      null|\n",
       "|  939410|      VUA2363|       E|null|   5|       85|  null|       null|       null|        null|      null|\n",
       "|  939828|        VSK75|       B|null|   2|       79|  null|       null|       null|        null|      null|\n",
       "|  939830|       VAF397|       C|null|   2|       66|  null|       null|       null|        null|      null|\n",
       "|  939832|       VDY643|       C|null|   2|       82|  null|       null|       null|        null|      null|\n",
       "+--------+-------------+--------+----+----+---------+------+-----------+-----------+------------+----------+\n",
       "only showing top 20 rows"
      ]
     },
     "execution_count": 10,
     "metadata": {},
     "output_type": "execute_result"
    }
   ],
   "source": [
    "vertrek_df = spark.read.parquet(BUCKET + \"vertrek.parquet\")\n",
    "vertrek_df"
   ]
  },
  {
   "cell_type": "markdown",
   "metadata": {},
   "source": [
    "# Vliegtuig"
   ]
  },
  {
   "cell_type": "code",
   "execution_count": 11,
   "metadata": {},
   "outputs": [
    {
     "name": "stderr",
     "output_type": "stream",
     "text": [
      "                                                                                \r"
     ]
    },
    {
     "data": {
      "text/html": [
       "<table border='1'>\n",
       "<tr><th>Airlinecode</th><th>Vliegtuigcode</th><th>Bouwjaar</th><th>IATA</th><th>ICAO</th><th>Merk</th><th>Type</th><th>Wake</th><th>Cat</th><th>Capaciteit</th><th>Vracht</th></tr>\n",
       "<tr><td>MT</td><td>VMT741</td><td>1996</td><td>319</td><td>A319</td><td>Airbus</td><td>Airbus A319</td><td>M</td><td>Pax</td><td>125</td><td>8</td></tr>\n",
       "<tr><td>EZY</td><td>VEZY325</td><td>1975</td><td>319</td><td>A319</td><td>Airbus</td><td>Airbus A319</td><td>M</td><td>Pax</td><td>125</td><td>8</td></tr>\n",
       "<tr><td>HV</td><td>VHV843</td><td>1992</td><td>319</td><td>A319</td><td>Airbus</td><td>Airbus A319</td><td>M</td><td>Pax</td><td>125</td><td>8</td></tr>\n",
       "<tr><td>OK</td><td>VOK667</td><td>1993</td><td>319</td><td>A319</td><td>Airbus</td><td>Airbus A319</td><td>M</td><td>Pax</td><td>125</td><td>8</td></tr>\n",
       "<tr><td>EZY</td><td>VEZY727</td><td>1999</td><td>319</td><td>A319</td><td>Airbus</td><td>Airbus A319</td><td>M</td><td>Pax</td><td>125</td><td>8</td></tr>\n",
       "<tr><td>IR</td><td>VIR3141</td><td>1997</td><td>319</td><td>A319</td><td>Airbus</td><td>Airbus A319</td><td>M</td><td>Pax</td><td>125</td><td>8</td></tr>\n",
       "<tr><td>EI</td><td>VEI109</td><td>1983</td><td>319</td><td>A319</td><td>Airbus</td><td>Airbus A319</td><td>M</td><td>Pax</td><td>125</td><td>8</td></tr>\n",
       "<tr><td>LH</td><td>VLH927</td><td>2005</td><td>320</td><td>A320</td><td>Airbus</td><td>Airbus A320-100/200</td><td>M</td><td>Pax</td><td>150</td><td>8</td></tr>\n",
       "<tr><td>OR</td><td>VOR649</td><td>2007</td><td>320</td><td>A320</td><td>Airbus</td><td>Airbus A320-100/200</td><td>M</td><td>Pax</td><td>150</td><td>8</td></tr>\n",
       "<tr><td>CZ</td><td>VCZ2067</td><td>1976</td><td>320</td><td>A320</td><td>Airbus</td><td>Airbus A320-100/200</td><td>M</td><td>Pax</td><td>150</td><td>8</td></tr>\n",
       "<tr><td>LH</td><td>VLH219</td><td>1980</td><td>320</td><td>A320</td><td>Airbus</td><td>Airbus A320-100/200</td><td>M</td><td>Pax</td><td>150</td><td>8</td></tr>\n",
       "<tr><td>FR</td><td>VFR477</td><td>1992</td><td>320</td><td>A320</td><td>Airbus</td><td>Airbus A320-100/200</td><td>M</td><td>Pax</td><td>150</td><td>8</td></tr>\n",
       "<tr><td>FR</td><td>VFR897</td><td>1988</td><td>320</td><td>A320</td><td>Airbus</td><td>Airbus A320-100/200</td><td>M</td><td>Pax</td><td>150</td><td>8</td></tr>\n",
       "<tr><td>A3</td><td>VA3621</td><td>1989</td><td>320</td><td>A320</td><td>Airbus</td><td>Airbus A320-100/200</td><td>M</td><td>Pax</td><td>150</td><td>8</td></tr>\n",
       "<tr><td>OR</td><td>VOR717</td><td>1981</td><td>320</td><td>A320</td><td>Airbus</td><td>Airbus A320-100/200</td><td>M</td><td>Pax</td><td>150</td><td>8</td></tr>\n",
       "<tr><td>CAI</td><td>VCAI463</td><td>1973</td><td>320</td><td>A320</td><td>Airbus</td><td>Airbus A320-100/200</td><td>M</td><td>Pax</td><td>150</td><td>8</td></tr>\n",
       "<tr><td>MU</td><td>VMU2605</td><td>1983</td><td>320</td><td>A320</td><td>Airbus</td><td>Airbus A320-100/200</td><td>M</td><td>Pax</td><td>150</td><td>8</td></tr>\n",
       "<tr><td>DL</td><td>VDL4991</td><td>1977</td><td>320</td><td>A320</td><td>Airbus</td><td>Airbus A320-100/200</td><td>M</td><td>Pax</td><td>150</td><td>8</td></tr>\n",
       "<tr><td>EY</td><td>VEY1775</td><td>1995</td><td>320</td><td>A320</td><td>Airbus</td><td>Airbus A320-100/200</td><td>M</td><td>Pax</td><td>150</td><td>8</td></tr>\n",
       "<tr><td>EW</td><td>VEW219</td><td>1970</td><td>320</td><td>A320</td><td>Airbus</td><td>Airbus A320-100/200</td><td>M</td><td>Pax</td><td>150</td><td>8</td></tr>\n",
       "</table>\n",
       "only showing top 20 rows\n"
      ],
      "text/plain": [
       "+-----------+-------------+--------+----+----+------+-------------------+----+---+----------+------+\n",
       "|Airlinecode|Vliegtuigcode|Bouwjaar|IATA|ICAO|  Merk|               Type|Wake|Cat|Capaciteit|Vracht|\n",
       "+-----------+-------------+--------+----+----+------+-------------------+----+---+----------+------+\n",
       "|         MT|       VMT741|    1996| 319|A319|Airbus|        Airbus A319|   M|Pax|       125|     8|\n",
       "|        EZY|      VEZY325|    1975| 319|A319|Airbus|        Airbus A319|   M|Pax|       125|     8|\n",
       "|         HV|       VHV843|    1992| 319|A319|Airbus|        Airbus A319|   M|Pax|       125|     8|\n",
       "|         OK|       VOK667|    1993| 319|A319|Airbus|        Airbus A319|   M|Pax|       125|     8|\n",
       "|        EZY|      VEZY727|    1999| 319|A319|Airbus|        Airbus A319|   M|Pax|       125|     8|\n",
       "|         IR|      VIR3141|    1997| 319|A319|Airbus|        Airbus A319|   M|Pax|       125|     8|\n",
       "|         EI|       VEI109|    1983| 319|A319|Airbus|        Airbus A319|   M|Pax|       125|     8|\n",
       "|         LH|       VLH927|    2005| 320|A320|Airbus|Airbus A320-100/200|   M|Pax|       150|     8|\n",
       "|         OR|       VOR649|    2007| 320|A320|Airbus|Airbus A320-100/200|   M|Pax|       150|     8|\n",
       "|         CZ|      VCZ2067|    1976| 320|A320|Airbus|Airbus A320-100/200|   M|Pax|       150|     8|\n",
       "|         LH|       VLH219|    1980| 320|A320|Airbus|Airbus A320-100/200|   M|Pax|       150|     8|\n",
       "|         FR|       VFR477|    1992| 320|A320|Airbus|Airbus A320-100/200|   M|Pax|       150|     8|\n",
       "|         FR|       VFR897|    1988| 320|A320|Airbus|Airbus A320-100/200|   M|Pax|       150|     8|\n",
       "|         A3|       VA3621|    1989| 320|A320|Airbus|Airbus A320-100/200|   M|Pax|       150|     8|\n",
       "|         OR|       VOR717|    1981| 320|A320|Airbus|Airbus A320-100/200|   M|Pax|       150|     8|\n",
       "|        CAI|      VCAI463|    1973| 320|A320|Airbus|Airbus A320-100/200|   M|Pax|       150|     8|\n",
       "|         MU|      VMU2605|    1983| 320|A320|Airbus|Airbus A320-100/200|   M|Pax|       150|     8|\n",
       "|         DL|      VDL4991|    1977| 320|A320|Airbus|Airbus A320-100/200|   M|Pax|       150|     8|\n",
       "|         EY|      VEY1775|    1995| 320|A320|Airbus|Airbus A320-100/200|   M|Pax|       150|     8|\n",
       "|         EW|       VEW219|    1970| 320|A320|Airbus|Airbus A320-100/200|   M|Pax|       150|     8|\n",
       "+-----------+-------------+--------+----+----+------+-------------------+----+---+----------+------+\n",
       "only showing top 20 rows"
      ]
     },
     "execution_count": 11,
     "metadata": {},
     "output_type": "execute_result"
    }
   ],
   "source": [
    "vliegtuig_df = spark.read.parquet(BUCKET + \"vliegtuig.parquet\")\n",
    "vliegtuig_df"
   ]
  },
  {
   "cell_type": "markdown",
   "metadata": {},
   "source": [
    "# Vlucht"
   ]
  },
  {
   "cell_type": "code",
   "execution_count": 12,
   "metadata": {},
   "outputs": [
    {
     "name": "stderr",
     "output_type": "stream",
     "text": [
      "                                                                                \r"
     ]
    },
    {
     "data": {
      "text/html": [
       "<table border='1'>\n",
       "<tr><th>Vluchtid</th><th>Vluchtnr</th><th>Airlinecode</th><th>Destcode</th><th>Vliegtuigcode</th><th>Datum</th></tr>\n",
       "<tr><td>935992</td><td>TK297</td><td>TK</td><td>ESB</td><td>VTK297</td><td>2014-01-01</td></tr>\n",
       "<tr><td>935993</td><td>DL5829</td><td>DL</td><td>DTW</td><td>VDL5829</td><td>2014-01-01</td></tr>\n",
       "<tr><td>935994</td><td>SU1831</td><td>SU</td><td>SVO</td><td>VSU1831</td><td>2014-01-01</td></tr>\n",
       "<tr><td>935995</td><td>EZY741</td><td>EZY</td><td>ACE</td><td>VEZY741</td><td>2014-01-01</td></tr>\n",
       "<tr><td>935996</td><td>KL500</td><td>KL</td><td>VIE</td><td>VKL499</td><td>2014-01-01</td></tr>\n",
       "<tr><td>935997</td><td>GA4943</td><td>GA</td><td>CGK</td><td>VGA4943</td><td>2014-01-01</td></tr>\n",
       "<tr><td>935998</td><td>FR734</td><td>FR</td><td>AYT</td><td>VFR735</td><td>2014-01-01</td></tr>\n",
       "<tr><td>935999</td><td>KL316</td><td>KL</td><td>IST</td><td>VKL315</td><td>2014-01-01</td></tr>\n",
       "<tr><td>936000</td><td>HV382</td><td>HV</td><td>FAO</td><td>VHV381</td><td>2014-01-01</td></tr>\n",
       "<tr><td>936001</td><td>HV303</td><td>HV</td><td>ATH</td><td>VHV303</td><td>2014-01-01</td></tr>\n",
       "<tr><td>936002</td><td>BT361</td><td>BT</td><td>VNO</td><td>VBT361</td><td>2014-01-01</td></tr>\n",
       "<tr><td>936003</td><td>DY439</td><td>DY</td><td>HEL</td><td>VDY439</td><td>2014-01-01</td></tr>\n",
       "<tr><td>936004</td><td>EI109</td><td>EI</td><td>DUB</td><td>VEI109</td><td>2014-01-01</td></tr>\n",
       "<tr><td>936005</td><td>AZ577</td><td>AZ</td><td>FCO</td><td>VAZ577</td><td>2014-01-01</td></tr>\n",
       "<tr><td>936006</td><td>KL3124</td><td>KL</td><td>LAX</td><td>VKL3123</td><td>2014-01-01</td></tr>\n",
       "<tr><td>936007</td><td>FR735</td><td>FR</td><td>AYT</td><td>VFR735</td><td>2014-01-01</td></tr>\n",
       "<tr><td>936008</td><td>UA2363</td><td>UA</td><td>IAD</td><td>VUA2363</td><td>2014-01-01</td></tr>\n",
       "<tr><td>936009</td><td>KL301</td><td>KL</td><td>LIS</td><td>VKL301</td><td>2014-01-01</td></tr>\n",
       "<tr><td>936010</td><td>EZY461</td><td>EZY</td><td>GLA</td><td>VEZY461</td><td>2014-01-01</td></tr>\n",
       "<tr><td>936011</td><td>SQ2993</td><td>SQ</td><td>SIN</td><td>VSQ2993</td><td>2014-01-01</td></tr>\n",
       "</table>\n",
       "only showing top 20 rows\n"
      ],
      "text/plain": [
       "+--------+--------+-----------+--------+-------------+----------+\n",
       "|Vluchtid|Vluchtnr|Airlinecode|Destcode|Vliegtuigcode|     Datum|\n",
       "+--------+--------+-----------+--------+-------------+----------+\n",
       "|  935992|   TK297|         TK|     ESB|       VTK297|2014-01-01|\n",
       "|  935993|  DL5829|         DL|     DTW|      VDL5829|2014-01-01|\n",
       "|  935994|  SU1831|         SU|     SVO|      VSU1831|2014-01-01|\n",
       "|  935995|  EZY741|        EZY|     ACE|      VEZY741|2014-01-01|\n",
       "|  935996|   KL500|         KL|     VIE|       VKL499|2014-01-01|\n",
       "|  935997|  GA4943|         GA|     CGK|      VGA4943|2014-01-01|\n",
       "|  935998|   FR734|         FR|     AYT|       VFR735|2014-01-01|\n",
       "|  935999|   KL316|         KL|     IST|       VKL315|2014-01-01|\n",
       "|  936000|   HV382|         HV|     FAO|       VHV381|2014-01-01|\n",
       "|  936001|   HV303|         HV|     ATH|       VHV303|2014-01-01|\n",
       "|  936002|   BT361|         BT|     VNO|       VBT361|2014-01-01|\n",
       "|  936003|   DY439|         DY|     HEL|       VDY439|2014-01-01|\n",
       "|  936004|   EI109|         EI|     DUB|       VEI109|2014-01-01|\n",
       "|  936005|   AZ577|         AZ|     FCO|       VAZ577|2014-01-01|\n",
       "|  936006|  KL3124|         KL|     LAX|      VKL3123|2014-01-01|\n",
       "|  936007|   FR735|         FR|     AYT|       VFR735|2014-01-01|\n",
       "|  936008|  UA2363|         UA|     IAD|      VUA2363|2014-01-01|\n",
       "|  936009|   KL301|         KL|     LIS|       VKL301|2014-01-01|\n",
       "|  936010|  EZY461|        EZY|     GLA|      VEZY461|2014-01-01|\n",
       "|  936011|  SQ2993|         SQ|     SIN|      VSQ2993|2014-01-01|\n",
       "+--------+--------+-----------+--------+-------------+----------+\n",
       "only showing top 20 rows"
      ]
     },
     "execution_count": 12,
     "metadata": {},
     "output_type": "execute_result"
    }
   ],
   "source": [
    "vlucht_df = spark.read.parquet(BUCKET + \"vlucht.parquet\")\n",
    "vlucht_df"
   ]
  },
  {
   "cell_type": "markdown",
   "metadata": {},
   "source": [
    "# Weather"
   ]
  },
  {
   "cell_type": "code",
   "execution_count": 13,
   "metadata": {},
   "outputs": [
    {
     "name": "stderr",
     "output_type": "stream",
     "text": [
      "21/12/15 10:55:24 WARN package: Truncated the string representation of a plan since it was too large. This behavior can be adjusted by setting 'spark.sql.debug.maxToStringFields'.\n"
     ]
    },
    {
     "data": {
      "text/html": [
       "<table border='1'>\n",
       "<tr><th>date</th><th>DDVEC</th><th>FHVEC</th><th>FG</th><th>FHX</th><th>FHXH</th><th>FHN</th><th>FHNH</th><th>FXX</th><th>FXXH</th><th>TG</th><th>TN</th><th>TNH</th><th>TX</th><th>TXH</th><th>T10N</th><th>T10NH</th><th>SQ</th><th>SP</th><th>Q</th><th>DR</th><th>RH</th><th>RHX</th><th>RHXH</th><th>PG</th><th>PX</th><th>PXH</th><th>PN</th><th>PNH</th><th>VVN</th><th>VVNH</th><th>VVX</th><th>VVXH</th><th>NG</th><th>UG</th><th>UX</th><th>UXH</th><th>UN</th><th>UNH</th><th>EV2</th></tr>\n",
       "<tr><td>2014-01-01</td><td>24</td><td>35</td><td>38</td><td>60</td><td>1</td><td>0</td><td>23</td><td>110</td><td>1</td><td>-16</td><td>-63</td><td>24</td><td>7</td><td>14</td><td>-91</td><td>24</td><td>42</td><td>54</td><td>318</td><td>0</td><td>-1</td><td>-1</td><td>2</td><td>10026</td><td>10094</td><td>24</td><td>9978</td><td>3</td><td>57</td><td>23</td><td>75</td><td>2</td><td>4</td><td>78</td><td>93</td><td>23</td><td>67</td><td>12</td><td>3</td></tr>\n",
       "<tr><td>2014-01-02</td><td>212</td><td>22</td><td>31</td><td>50</td><td>18</td><td>10</td><td>1</td><td>80</td><td>21</td><td>-11</td><td>-64</td><td>1</td><td>12</td><td>19</td><td>-86</td><td>6</td><td>0</td><td>0</td><td>117</td><td>8</td><td>1</td><td>1</td><td>17</td><td>10140</td><td>10172</td><td>24</td><td>10101</td><td>1</td><td>37</td><td>23</td><td>61</td><td>5</td><td>8</td><td>91</td><td>94</td><td>9</td><td>89</td><td>14</td><td>1</td></tr>\n",
       "<tr><td>2014-01-03</td><td>33</td><td>17</td><td>25</td><td>60</td><td>1</td><td>0</td><td>18</td><td>100</td><td>2</td><td>-39</td><td>-65</td><td>21</td><td>-10</td><td>14</td><td>-89</td><td>24</td><td>62</td><td>79</td><td>388</td><td>0</td><td>0</td><td>0</td><td>1</td><td>10220</td><td>10238</td><td>20</td><td>10176</td><td>1</td><td>50</td><td>21</td><td>75</td><td>14</td><td>4</td><td>84</td><td>92</td><td>20</td><td>69</td><td>13</td><td>4</td></tr>\n",
       "<tr><td>2014-01-04</td><td>199</td><td>30</td><td>31</td><td>50</td><td>14</td><td>20</td><td>1</td><td>80</td><td>12</td><td>-29</td><td>-54</td><td>8</td><td>-6</td><td>24</td><td>-57</td><td>6</td><td>10</td><td>13</td><td>179</td><td>0</td><td>-1</td><td>-1</td><td>1</td><td>10159</td><td>10222</td><td>1</td><td>10099</td><td>24</td><td>2</td><td>22</td><td>57</td><td>12</td><td>8</td><td>90</td><td>99</td><td>21</td><td>83</td><td>13</td><td>2</td></tr>\n",
       "<tr><td>2014-01-05</td><td>194</td><td>28</td><td>28</td><td>40</td><td>14</td><td>20</td><td>2</td><td>60</td><td>9</td><td>-7</td><td>-30</td><td>22</td><td>19</td><td>13</td><td>-40</td><td>24</td><td>33</td><td>42</td><td>253</td><td>8</td><td>9</td><td>8</td><td>2</td><td>10053</td><td>10094</td><td>1</td><td>10030</td><td>24</td><td>2</td><td>3</td><td>63</td><td>14</td><td>7</td><td>91</td><td>97</td><td>1</td><td>82</td><td>13</td><td>3</td></tr>\n",
       "<tr><td>2014-01-06</td><td>196</td><td>24</td><td>25</td><td>40</td><td>19</td><td>20</td><td>2</td><td>60</td><td>16</td><td>-30</td><td>-52</td><td>3</td><td>-5</td><td>13</td><td>-75</td><td>6</td><td>65</td><td>82</td><td>455</td><td>9</td><td>1</td><td>1</td><td>23</td><td>10040</td><td>10059</td><td>23</td><td>10027</td><td>3</td><td>24</td><td>23</td><td>58</td><td>14</td><td>5</td><td>86</td><td>93</td><td>3</td><td>76</td><td>12</td><td>4</td></tr>\n",
       "<tr><td>2014-01-07</td><td>160</td><td>16</td><td>20</td><td>40</td><td>12</td><td>10</td><td>16</td><td>60</td><td>12</td><td>-49</td><td>-100</td><td>24</td><td>-21</td><td>14</td><td>-123</td><td>24</td><td>56</td><td>70</td><td>408</td><td>0</td><td>-1</td><td>-1</td><td>1</td><td>10110</td><td>10175</td><td>24</td><td>10061</td><td>1</td><td>4</td><td>23</td><td>56</td><td>13</td><td>3</td><td>89</td><td>99</td><td>23</td><td>76</td><td>13</td><td>4</td></tr>\n",
       "<tr><td>2014-01-08</td><td>43</td><td>35</td><td>36</td><td>60</td><td>20</td><td>10</td><td>1</td><td>110</td><td>20</td><td>-50</td><td>-107</td><td>2</td><td>-21</td><td>24</td><td>-131</td><td>6</td><td>29</td><td>36</td><td>216</td><td>0</td><td>0</td><td>0</td><td>1</td><td>10216</td><td>10232</td><td>21</td><td>10178</td><td>1</td><td>18</td><td>1</td><td>68</td><td>24</td><td>6</td><td>87</td><td>93</td><td>4</td><td>77</td><td>21</td><td>2</td></tr>\n",
       "<tr><td>2014-01-09</td><td>32</td><td>73</td><td>73</td><td>80</td><td>8</td><td>70</td><td>1</td><td>150</td><td>14</td><td>-22</td><td>-49</td><td>3</td><td>-5</td><td>24</td><td>-54</td><td>6</td><td>0</td><td>0</td><td>166</td><td>58</td><td>10</td><td>3</td><td>16</td><td>10196</td><td>10228</td><td>1</td><td>10158</td><td>24</td><td>23</td><td>15</td><td>75</td><td>4</td><td>8</td><td>84</td><td>90</td><td>20</td><td>78</td><td>13</td><td>2</td></tr>\n",
       "<tr><td>2014-01-10</td><td>51</td><td>35</td><td>35</td><td>60</td><td>1</td><td>10</td><td>16</td><td>120</td><td>1</td><td>-5</td><td>-10</td><td>21</td><td>2</td><td>12</td><td>-15</td><td>24</td><td>0</td><td>0</td><td>149</td><td>49</td><td>11</td><td>3</td><td>14</td><td>10171</td><td>10194</td><td>24</td><td>10153</td><td>5</td><td>31</td><td>9</td><td>70</td><td>1</td><td>8</td><td>87</td><td>94</td><td>17</td><td>82</td><td>11</td><td>2</td></tr>\n",
       "<tr><td>2014-01-11</td><td>32</td><td>25</td><td>25</td><td>40</td><td>5</td><td>20</td><td>1</td><td>70</td><td>5</td><td>-4</td><td>-9</td><td>24</td><td>0</td><td>12</td><td>-12</td><td>24</td><td>0</td><td>0</td><td>125</td><td>0</td><td>-1</td><td>-1</td><td>3</td><td>10193</td><td>10197</td><td>10</td><td>10190</td><td>24</td><td>15</td><td>3</td><td>67</td><td>15</td><td>8</td><td>87</td><td>94</td><td>3</td><td>83</td><td>12</td><td>1</td></tr>\n",
       "<tr><td>2014-01-12</td><td>94</td><td>35</td><td>38</td><td>60</td><td>19</td><td>10</td><td>1</td><td>100</td><td>23</td><td>-17</td><td>-42</td><td>24</td><td>-7</td><td>10</td><td>-48</td><td>24</td><td>19</td><td>23</td><td>222</td><td>0</td><td>-1</td><td>-1</td><td>2</td><td>10135</td><td>10189</td><td>1</td><td>10070</td><td>24</td><td>27</td><td>8</td><td>61</td><td>18</td><td>7</td><td>83</td><td>94</td><td>6</td><td>74</td><td>20</td><td>2</td></tr>\n",
       "<tr><td>2014-01-13</td><td>103</td><td>47</td><td>48</td><td>60</td><td>1</td><td>30</td><td>23</td><td>90</td><td>1</td><td>-30</td><td>-50</td><td>9</td><td>-12</td><td>24</td><td>-58</td><td>12</td><td>0</td><td>0</td><td>223</td><td>0</td><td>-1</td><td>-1</td><td>16</td><td>10049</td><td>10068</td><td>1</td><td>10038</td><td>15</td><td>24</td><td>18</td><td>59</td><td>5</td><td>6</td><td>78</td><td>92</td><td>24</td><td>68</td><td>14</td><td>2</td></tr>\n",
       "<tr><td>2014-01-14</td><td>114</td><td>22</td><td>25</td><td>30</td><td>1</td><td>20</td><td>3</td><td>50</td><td>1</td><td>6</td><td>-30</td><td>23</td><td>48</td><td>13</td><td>-67</td><td>24</td><td>49</td><td>60</td><td>393</td><td>0</td><td>0</td><td>0</td><td>1</td><td>10087</td><td>10144</td><td>24</td><td>10050</td><td>1</td><td>14</td><td>1</td><td>59</td><td>13</td><td>4</td><td>89</td><td>96</td><td>6</td><td>76</td><td>13</td><td>4</td></tr>\n",
       "<tr><td>2014-01-15</td><td>145</td><td>22</td><td>24</td><td>40</td><td>23</td><td>10</td><td>3</td><td>70</td><td>23</td><td>13</td><td>1</td><td>1</td><td>18</td><td>24</td><td>-3</td><td>6</td><td>0</td><td>0</td><td>114</td><td>0</td><td>0</td><td>0</td><td>1</td><td>10210</td><td>10244</td><td>21</td><td>10149</td><td>1</td><td>8</td><td>17</td><td>56</td><td>9</td><td>8</td><td>92</td><td>99</td><td>17</td><td>86</td><td>11</td><td>1</td></tr>\n",
       "<tr><td>2014-01-16</td><td>141</td><td>53</td><td>54</td><td>70</td><td>11</td><td>30</td><td>2</td><td>120</td><td>15</td><td>10</td><td>-1</td><td>20</td><td>19</td><td>1</td><td>1</td><td>24</td><td>0</td><td>0</td><td>150</td><td>52</td><td>77</td><td>21</td><td>19</td><td>10141</td><td>10236</td><td>1</td><td>10062</td><td>24</td><td>12</td><td>20</td><td>60</td><td>15</td><td>8</td><td>90</td><td>96</td><td>20</td><td>81</td><td>16</td><td>2</td></tr>\n",
       "<tr><td>2014-01-17</td><td>253</td><td>21</td><td>28</td><td>50</td><td>11</td><td>10</td><td>4</td><td>100</td><td>13</td><td>39</td><td>8</td><td>1</td><td>67</td><td>15</td><td>6</td><td>6</td><td>18</td><td>22</td><td>183</td><td>24</td><td>14</td><td>7</td><td>9</td><td>10138</td><td>10219</td><td>24</td><td>10061</td><td>1</td><td>1</td><td>7</td><td>63</td><td>10</td><td>7</td><td>93</td><td>99</td><td>3</td><td>86</td><td>14</td><td>2</td></tr>\n",
       "<tr><td>2014-01-18</td><td>234</td><td>31</td><td>32</td><td>40</td><td>11</td><td>20</td><td>6</td><td>90</td><td>14</td><td>40</td><td>2</td><td>8</td><td>53</td><td>19</td><td>-15</td><td>12</td><td>0</td><td>0</td><td>110</td><td>23</td><td>12</td><td>5</td><td>23</td><td>10240</td><td>10249</td><td>10</td><td>10222</td><td>1</td><td>2</td><td>9</td><td>60</td><td>1</td><td>7</td><td>97</td><td>99</td><td>9</td><td>91</td><td>1</td><td>1</td></tr>\n",
       "<tr><td>2014-01-19</td><td>337</td><td>7</td><td>16</td><td>30</td><td>1</td><td>10</td><td>3</td><td>50</td><td>1</td><td>40</td><td>19</td><td>22</td><td>58</td><td>11</td><td>21</td><td>24</td><td>0</td><td>0</td><td>133</td><td>7</td><td>3</td><td>2</td><td>13</td><td>10226</td><td>10243</td><td>2</td><td>10199</td><td>24</td><td>2</td><td>3</td><td>59</td><td>13</td><td>8</td><td>96</td><td>99</td><td>3</td><td>91</td><td>11</td><td>2</td></tr>\n",
       "<tr><td>2014-01-20</td><td>87</td><td>39</td><td>39</td><td>60</td><td>13</td><td>20</td><td>1</td><td>90</td><td>12</td><td>27</td><td>16</td><td>5</td><td>55</td><td>13</td><td>9</td><td>24</td><td>47</td><td>56</td><td>417</td><td>0</td><td>-1</td><td>-1</td><td>1</td><td>10156</td><td>10192</td><td>1</td><td>10129</td><td>14</td><td>8</td><td>1</td><td>67</td><td>13</td><td>6</td><td>90</td><td>99</td><td>1</td><td>71</td><td>13</td><td>5</td></tr>\n",
       "</table>\n",
       "only showing top 20 rows\n"
      ],
      "text/plain": [
       "+----------+-----+-----+---+---+----+---+----+---+----+---+----+---+---+---+----+-----+---+---+---+---+---+---+----+-----+-----+---+-----+---+---+----+---+----+---+---+---+---+---+---+---+\n",
       "|      date|DDVEC|FHVEC| FG|FHX|FHXH|FHN|FHNH|FXX|FXXH| TG|  TN|TNH| TX|TXH|T10N|T10NH| SQ| SP|  Q| DR| RH|RHX|RHXH|   PG|   PX|PXH|   PN|PNH|VVN|VVNH|VVX|VVXH| NG| UG| UX|UXH| UN|UNH|EV2|\n",
       "+----------+-----+-----+---+---+----+---+----+---+----+---+----+---+---+---+----+-----+---+---+---+---+---+---+----+-----+-----+---+-----+---+---+----+---+----+---+---+---+---+---+---+---+\n",
       "|2014-01-01|   24|   35| 38| 60|   1|  0|  23|110|   1|-16| -63| 24|  7| 14| -91|   24| 42| 54|318|  0| -1| -1|   2|10026|10094| 24| 9978|  3| 57|  23| 75|   2|  4| 78| 93| 23| 67| 12|  3|\n",
       "|2014-01-02|  212|   22| 31| 50|  18| 10|   1| 80|  21|-11| -64|  1| 12| 19| -86|    6|  0|  0|117|  8|  1|  1|  17|10140|10172| 24|10101|  1| 37|  23| 61|   5|  8| 91| 94|  9| 89| 14|  1|\n",
       "|2014-01-03|   33|   17| 25| 60|   1|  0|  18|100|   2|-39| -65| 21|-10| 14| -89|   24| 62| 79|388|  0|  0|  0|   1|10220|10238| 20|10176|  1| 50|  21| 75|  14|  4| 84| 92| 20| 69| 13|  4|\n",
       "|2014-01-04|  199|   30| 31| 50|  14| 20|   1| 80|  12|-29| -54|  8| -6| 24| -57|    6| 10| 13|179|  0| -1| -1|   1|10159|10222|  1|10099| 24|  2|  22| 57|  12|  8| 90| 99| 21| 83| 13|  2|\n",
       "|2014-01-05|  194|   28| 28| 40|  14| 20|   2| 60|   9| -7| -30| 22| 19| 13| -40|   24| 33| 42|253|  8|  9|  8|   2|10053|10094|  1|10030| 24|  2|   3| 63|  14|  7| 91| 97|  1| 82| 13|  3|\n",
       "|2014-01-06|  196|   24| 25| 40|  19| 20|   2| 60|  16|-30| -52|  3| -5| 13| -75|    6| 65| 82|455|  9|  1|  1|  23|10040|10059| 23|10027|  3| 24|  23| 58|  14|  5| 86| 93|  3| 76| 12|  4|\n",
       "|2014-01-07|  160|   16| 20| 40|  12| 10|  16| 60|  12|-49|-100| 24|-21| 14|-123|   24| 56| 70|408|  0| -1| -1|   1|10110|10175| 24|10061|  1|  4|  23| 56|  13|  3| 89| 99| 23| 76| 13|  4|\n",
       "|2014-01-08|   43|   35| 36| 60|  20| 10|   1|110|  20|-50|-107|  2|-21| 24|-131|    6| 29| 36|216|  0|  0|  0|   1|10216|10232| 21|10178|  1| 18|   1| 68|  24|  6| 87| 93|  4| 77| 21|  2|\n",
       "|2014-01-09|   32|   73| 73| 80|   8| 70|   1|150|  14|-22| -49|  3| -5| 24| -54|    6|  0|  0|166| 58| 10|  3|  16|10196|10228|  1|10158| 24| 23|  15| 75|   4|  8| 84| 90| 20| 78| 13|  2|\n",
       "|2014-01-10|   51|   35| 35| 60|   1| 10|  16|120|   1| -5| -10| 21|  2| 12| -15|   24|  0|  0|149| 49| 11|  3|  14|10171|10194| 24|10153|  5| 31|   9| 70|   1|  8| 87| 94| 17| 82| 11|  2|\n",
       "|2014-01-11|   32|   25| 25| 40|   5| 20|   1| 70|   5| -4|  -9| 24|  0| 12| -12|   24|  0|  0|125|  0| -1| -1|   3|10193|10197| 10|10190| 24| 15|   3| 67|  15|  8| 87| 94|  3| 83| 12|  1|\n",
       "|2014-01-12|   94|   35| 38| 60|  19| 10|   1|100|  23|-17| -42| 24| -7| 10| -48|   24| 19| 23|222|  0| -1| -1|   2|10135|10189|  1|10070| 24| 27|   8| 61|  18|  7| 83| 94|  6| 74| 20|  2|\n",
       "|2014-01-13|  103|   47| 48| 60|   1| 30|  23| 90|   1|-30| -50|  9|-12| 24| -58|   12|  0|  0|223|  0| -1| -1|  16|10049|10068|  1|10038| 15| 24|  18| 59|   5|  6| 78| 92| 24| 68| 14|  2|\n",
       "|2014-01-14|  114|   22| 25| 30|   1| 20|   3| 50|   1|  6| -30| 23| 48| 13| -67|   24| 49| 60|393|  0|  0|  0|   1|10087|10144| 24|10050|  1| 14|   1| 59|  13|  4| 89| 96|  6| 76| 13|  4|\n",
       "|2014-01-15|  145|   22| 24| 40|  23| 10|   3| 70|  23| 13|   1|  1| 18| 24|  -3|    6|  0|  0|114|  0|  0|  0|   1|10210|10244| 21|10149|  1|  8|  17| 56|   9|  8| 92| 99| 17| 86| 11|  1|\n",
       "|2014-01-16|  141|   53| 54| 70|  11| 30|   2|120|  15| 10|  -1| 20| 19|  1|   1|   24|  0|  0|150| 52| 77| 21|  19|10141|10236|  1|10062| 24| 12|  20| 60|  15|  8| 90| 96| 20| 81| 16|  2|\n",
       "|2014-01-17|  253|   21| 28| 50|  11| 10|   4|100|  13| 39|   8|  1| 67| 15|   6|    6| 18| 22|183| 24| 14|  7|   9|10138|10219| 24|10061|  1|  1|   7| 63|  10|  7| 93| 99|  3| 86| 14|  2|\n",
       "|2014-01-18|  234|   31| 32| 40|  11| 20|   6| 90|  14| 40|   2|  8| 53| 19| -15|   12|  0|  0|110| 23| 12|  5|  23|10240|10249| 10|10222|  1|  2|   9| 60|   1|  7| 97| 99|  9| 91|  1|  1|\n",
       "|2014-01-19|  337|    7| 16| 30|   1| 10|   3| 50|   1| 40|  19| 22| 58| 11|  21|   24|  0|  0|133|  7|  3|  2|  13|10226|10243|  2|10199| 24|  2|   3| 59|  13|  8| 96| 99|  3| 91| 11|  2|\n",
       "|2014-01-20|   87|   39| 39| 60|  13| 20|   1| 90|  12| 27|  16|  5| 55| 13|   9|   24| 47| 56|417|  0| -1| -1|   1|10156|10192|  1|10129| 14|  8|   1| 67|  13|  6| 90| 99|  1| 71| 13|  5|\n",
       "+----------+-----+-----+---+---+----+---+----+---+----+---+----+---+---+---+----+-----+---+---+---+---+---+---+----+-----+-----+---+-----+---+---+----+---+----+---+---+---+---+---+---+---+\n",
       "only showing top 20 rows"
      ]
     },
     "execution_count": 13,
     "metadata": {},
     "output_type": "execute_result"
    }
   ],
   "source": [
    "weather_df = spark.read.parquet(BUCKET + \"weather.parquet\")\n",
    "weather_df"
   ]
  }
 ],
 "metadata": {
  "interpreter": {
   "hash": "950bcc60cdb4806130dd1b0626e927a3ecaad35b0daba1c028607da664f6fb11"
  },
  "kernelspec": {
   "display_name": "Python 3.9.7 64-bit ('data-mining': conda)",
   "language": "python",
   "name": "python3"
  },
  "language_info": {
   "codemirror_mode": {
    "name": "ipython",
    "version": 3
   },
   "file_extension": ".py",
   "mimetype": "text/x-python",
   "name": "python",
   "nbconvert_exporter": "python",
   "pygments_lexer": "ipython3",
   "version": "3.9.7"
  },
  "orig_nbformat": 4
 },
 "nbformat": 4,
 "nbformat_minor": 2
}
