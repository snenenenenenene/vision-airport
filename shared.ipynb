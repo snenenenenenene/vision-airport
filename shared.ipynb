{
 "cells": [
  {
   "cell_type": "markdown",
   "metadata": {},
   "source": [
    "# VisionAirport"
   ]
  },
  {
   "cell_type": "markdown",
   "metadata": {},
   "source": [
    "## Imports + Init"
   ]
  },
  {
   "cell_type": "code",
   "execution_count": 1,
   "metadata": {},
   "outputs": [],
   "source": [
    "from pyspark import SparkContext\n",
    "import numpy as np\n",
    "from keras.models import Sequential\n",
    "from keras.layers import Dense, Dropout\n",
    "from pyspark.sql.types import *\n",
    "from pyspark.sql import *\n",
    "from scipy import stats\n",
    "from pyspark.sql import SQLContext\n",
    "from pyspark.sql.functions import col, desc, asc, lit\n",
    "from pyspark.sql import functions as F\n",
    "from sklearn.preprocessing import StandardScaler\n",
    "import matplotlib.pyplot as plt\n",
    "import numpy as np\n",
    "from keras.models import Sequential\n",
    "import pandas as pd\n",
    "from sklearn.model_selection import train_test_split"
   ]
  },
  {
   "cell_type": "code",
   "execution_count": 2,
   "metadata": {},
   "outputs": [
    {
     "name": "stderr",
     "output_type": "stream",
     "text": [
      "21/12/21 23:21:09 WARN Utils: Your hostname, pop-os resolves to a loopback address: 127.0.1.1; using 192.168.0.8 instead (on interface wlp59s0)\n",
      "21/12/21 23:21:09 WARN Utils: Set SPARK_LOCAL_IP if you need to bind to another address\n",
      "WARNING: An illegal reflective access operation has occurred\n",
      "WARNING: Illegal reflective access by org.apache.spark.unsafe.Platform (file:/home/lenny/.local/share/miniconda3/envs/animal-recognition/lib/python3.9/site-packages/pyspark/jars/spark-unsafe_2.12-3.2.0.jar) to constructor java.nio.DirectByteBuffer(long,int)\n",
      "WARNING: Please consider reporting this to the maintainers of org.apache.spark.unsafe.Platform\n",
      "WARNING: Use --illegal-access=warn to enable warnings of further illegal reflective access operations\n",
      "WARNING: All illegal access operations will be denied in a future release\n",
      "Using Spark's default log4j profile: org/apache/spark/log4j-defaults.properties\n",
      "Setting default log level to \"WARN\".\n",
      "To adjust logging level use sc.setLogLevel(newLevel). For SparkR, use setLogLevel(newLevel).\n",
      "21/12/21 23:21:10 WARN NativeCodeLoader: Unable to load native-hadoop library for your platform... using builtin-java classes where applicable\n",
      "21/12/21 23:21:10 WARN Utils: Service 'SparkUI' could not bind on port 4040. Attempting port 4041.\n"
     ]
    }
   ],
   "source": [
    "from pyspark.sql import SQLContext\n",
    "try:\n",
    "    sc = SparkContext(\"local\").getOrCreate()\n",
    "except:\n",
    "    print(\"SC already exists\")\n",
    "sqlContext = SQLContext(sc)\n",
    "spark = SparkSession(sc)\n",
    "plt.style.use('ggplot')\n",
    "DATADIR = \"./data\"\n",
    "\n",
    "spark.conf.set(\"spark.sql.repl.eagerEval.enabled\", True)"
   ]
  },
  {
   "cell_type": "markdown",
   "metadata": {},
   "source": [
    "## Airport"
   ]
  },
  {
   "cell_type": "code",
   "execution_count": 3,
   "metadata": {},
   "outputs": [
    {
     "name": "stdout",
     "output_type": "stream",
     "text": [
      "\n"
     ]
    },
    {
     "data": {
      "text/html": [
       "<table border='1'>\n",
       "<tr><th>airport</th><th>city</th><th>country</th><th>IATA</th><th>ICAO</th><th>lat</th><th>lon</th><th>alt</th><th>TZ</th><th>dst</th><th>tz2</th></tr>\n",
       "<tr><td>Airport</td><td>City</td><td>Country</td><td>IATA</td><td>ICAO</td><td>null</td><td>null</td><td>Alt</td><td>null</td><td>DST</td><td>Tz</td></tr>\n",
       "<tr><td>Bamyan Airport</td><td>Bamyan</td><td>Afghanistan</td><td>BIN</td><td>OABN</td><td>34.816666</td><td>67.816666</td><td>2550</td><td>4.5</td><td>N</td><td>Asia/Kabul</td></tr>\n",
       "<tr><td>Camp Bastion </td><td>Camp Bastion</td><td>Afghanistan</td><td>null</td><td>OAZI</td><td>31.865557</td><td>64.195274</td><td>2808</td><td>4.5</td><td>N</td><td>Asia/Kabul</td></tr>\n",
       "<tr><td>Chaghcharan Airport</td><td>Chaghcharan</td><td>Afghanistan</td><td>CCN</td><td>OACC</td><td>34.52667</td><td>65.27167</td><td>7383</td><td>4.5</td><td>U</td><td>Asia/Kabul</td></tr>\n",
       "<tr><td>Faizabad Airport</td><td>Faizabad</td><td>Afghanistan</td><td>FBD</td><td>OAFZ</td><td>37.1211</td><td>70.5181</td><td>3872</td><td>4.5</td><td>U</td><td>Asia/Kabul</td></tr>\n",
       "<tr><td>Herat</td><td>Herat</td><td>Afghanistan</td><td>HEA</td><td>OAHR</td><td>34.21002</td><td>62.2283</td><td>3206</td><td>4.5</td><td>U</td><td>Asia/Kabul</td></tr>\n",
       "<tr><td>Jalalabad</td><td>Jalalabad</td><td>Afghanistan</td><td>JAA</td><td>OAJL</td><td>34.39984</td><td>70.49863</td><td>1814</td><td>4.5</td><td>U</td><td>Asia/Kabul</td></tr>\n",
       "<tr><td>Bagram AFB</td><td>Kabul</td><td>Afghanistan</td><td>BPM</td><td>OAIX</td><td>34.5646</td><td>69.1554</td><td>4895</td><td>4.5</td><td>U</td><td>Asia/Kabul</td></tr>\n",
       "<tr><td>Kabul Intl</td><td>Kabul</td><td>Afghanistan</td><td>KBL</td><td>OAKB</td><td>34.565853</td><td>69.212326</td><td>5877</td><td>4.5</td><td>U</td><td>Asia/Kabul</td></tr>\n",
       "<tr><td>Kandahar</td><td>Kandahar</td><td>Afghanistan</td><td>KDH</td><td>OAKN</td><td>31.505756</td><td>65.847824</td><td>3337</td><td>4.5</td><td>U</td><td>Asia/Kabul</td></tr>\n",
       "<tr><td>FOB Salerno</td><td>Khost</td><td>Afghanistan</td><td>KHT</td><td>OAKS</td><td>33.3334</td><td>69.952</td><td>3756</td><td>4.5</td><td>N</td><td>Asia/Kabul</td></tr>\n",
       "<tr><td>Konduz</td><td>Kunduz</td><td>Afghanistan</td><td>UND</td><td>OAUZ</td><td>36.66511</td><td>68.910835</td><td>1457</td><td>4.5</td><td>U</td><td>Asia/Kabul</td></tr>\n",
       "<tr><td>Bost Airport</td><td>Lashkar Gah</td><td>Afghanistan</td><td>BST</td><td>OABT</td><td>31.55889</td><td>64.36417</td><td>2464</td><td>4.5</td><td>U</td><td>Asia/Kabul</td></tr>\n",
       "<tr><td>Maimana</td><td>Maimama</td><td>Afghanistan</td><td>MMZ</td><td>OAMN</td><td>35.93079</td><td>64.76092</td><td>2743</td><td>4.5</td><td>U</td><td>Asia/Kabul</td></tr>\n",
       "<tr><td>Mazar I Sharif</td><td>Mazar-i-sharif</td><td>Afghanistan</td><td>MZR</td><td>OAMS</td><td>36.706913</td><td>67.20968</td><td>1284</td><td>4.5</td><td>U</td><td>Asia/Kabul</td></tr>\n",
       "<tr><td>FOB Shank</td><td>Shank</td><td>Afghanistan</td><td>null</td><td>OASH</td><td>33.921368</td><td>69.07813</td><td>6614</td><td>4.5</td><td>N</td><td>Asia/Kabul</td></tr>\n",
       "<tr><td>FOB Sharana</td><td>Sharan</td><td>Afghanistan</td><td>null</td><td>\\N</td><td>33.127773</td><td>68.83698</td><td>7400</td><td>4.5</td><td>N</td><td>Asia/Kabul</td></tr>\n",
       "<tr><td>Sharona</td><td>Sharona</td><td>Afghanistan</td><td>AZ3</td><td>OASA</td><td>33.12772</td><td>68.83698</td><td>7400</td><td>4.5</td><td>N</td><td>Asia/Kabul</td></tr>\n",
       "<tr><td>Sheberghan</td><td>Sheberghan</td><td>Afghanistan</td><td>null</td><td>OASG</td><td>36.750782</td><td>65.91316</td><td>1053</td><td>4.5</td><td>U</td><td>Asia/Kabul</td></tr>\n",
       "<tr><td>Shindand</td><td>Shindand</td><td>Afghanistan</td><td>null</td><td>OASD</td><td>33.39133</td><td>62.260975</td><td>3773</td><td>4.5</td><td>U</td><td>Asia/Kabul</td></tr>\n",
       "</table>\n",
       "only showing top 20 rows\n"
      ],
      "text/plain": [
       "+-------------------+--------------+-----------+----+----+---------+---------+----+----+---+----------+\n",
       "|            airport|          city|    country|IATA|ICAO|      lat|      lon| alt|  TZ|dst|       tz2|\n",
       "+-------------------+--------------+-----------+----+----+---------+---------+----+----+---+----------+\n",
       "|            Airport|          City|    Country|IATA|ICAO|     null|     null| Alt|null|DST|        Tz|\n",
       "|     Bamyan Airport|        Bamyan|Afghanistan| BIN|OABN|34.816666|67.816666|2550| 4.5|  N|Asia/Kabul|\n",
       "|      Camp Bastion |  Camp Bastion|Afghanistan|null|OAZI|31.865557|64.195274|2808| 4.5|  N|Asia/Kabul|\n",
       "|Chaghcharan Airport|   Chaghcharan|Afghanistan| CCN|OACC| 34.52667| 65.27167|7383| 4.5|  U|Asia/Kabul|\n",
       "|   Faizabad Airport|      Faizabad|Afghanistan| FBD|OAFZ|  37.1211|  70.5181|3872| 4.5|  U|Asia/Kabul|\n",
       "|              Herat|         Herat|Afghanistan| HEA|OAHR| 34.21002|  62.2283|3206| 4.5|  U|Asia/Kabul|\n",
       "|          Jalalabad|     Jalalabad|Afghanistan| JAA|OAJL| 34.39984| 70.49863|1814| 4.5|  U|Asia/Kabul|\n",
       "|         Bagram AFB|         Kabul|Afghanistan| BPM|OAIX|  34.5646|  69.1554|4895| 4.5|  U|Asia/Kabul|\n",
       "|         Kabul Intl|         Kabul|Afghanistan| KBL|OAKB|34.565853|69.212326|5877| 4.5|  U|Asia/Kabul|\n",
       "|           Kandahar|      Kandahar|Afghanistan| KDH|OAKN|31.505756|65.847824|3337| 4.5|  U|Asia/Kabul|\n",
       "|        FOB Salerno|         Khost|Afghanistan| KHT|OAKS|  33.3334|   69.952|3756| 4.5|  N|Asia/Kabul|\n",
       "|             Konduz|        Kunduz|Afghanistan| UND|OAUZ| 36.66511|68.910835|1457| 4.5|  U|Asia/Kabul|\n",
       "|       Bost Airport|   Lashkar Gah|Afghanistan| BST|OABT| 31.55889| 64.36417|2464| 4.5|  U|Asia/Kabul|\n",
       "|            Maimana|       Maimama|Afghanistan| MMZ|OAMN| 35.93079| 64.76092|2743| 4.5|  U|Asia/Kabul|\n",
       "|     Mazar I Sharif|Mazar-i-sharif|Afghanistan| MZR|OAMS|36.706913| 67.20968|1284| 4.5|  U|Asia/Kabul|\n",
       "|          FOB Shank|         Shank|Afghanistan|null|OASH|33.921368| 69.07813|6614| 4.5|  N|Asia/Kabul|\n",
       "|        FOB Sharana|        Sharan|Afghanistan|null|  \\N|33.127773| 68.83698|7400| 4.5|  N|Asia/Kabul|\n",
       "|            Sharona|       Sharona|Afghanistan| AZ3|OASA| 33.12772| 68.83698|7400| 4.5|  N|Asia/Kabul|\n",
       "|         Sheberghan|    Sheberghan|Afghanistan|null|OASG|36.750782| 65.91316|1053| 4.5|  U|Asia/Kabul|\n",
       "|           Shindand|      Shindand|Afghanistan|null|OASD| 33.39133|62.260975|3773| 4.5|  U|Asia/Kabul|\n",
       "+-------------------+--------------+-----------+----+----+---------+---------+----+----+---+----------+\n",
       "only showing top 20 rows"
      ]
     },
     "execution_count": 3,
     "metadata": {},
     "output_type": "execute_result"
    }
   ],
   "source": [
    "# AIRPORT DATAFRAME\n",
    "\n",
    "airport_schema = StructType([\n",
    "    StructField('airport', StringType(), True),\n",
    "    StructField('city', StringType(), True),\n",
    "    StructField('country', StringType(), True),\n",
    "    StructField('IATA', StringType(), True),\n",
    "    StructField('ICAO', StringType(), True),\n",
    "    StructField('lat', FloatType(), True),\n",
    "    StructField('lon', FloatType(), True),\n",
    "    StructField('alt', StringType(), True),\n",
    "    StructField('TZ', FloatType(), True),\n",
    "    StructField('dst', StringType(), True),\n",
    "    StructField('tz2', StringType(), True),\n",
    "])\n",
    "\n",
    "\n",
    "airport_df = spark.read.csv(\n",
    "    \"./data/export_luchthavens.txt\", \n",
    "    # header=True,\n",
    "    sep=\"\\t\",\n",
    "    multiLine=True,\n",
    "    schema=airport_schema\n",
    ")\n",
    "\n",
    "try:\n",
    "    airport_df.write.parquet(\"aws/airport.parquet\")\n",
    "except:\n",
    "    print(\"\")\n",
    "airport_df"
   ]
  },
  {
   "cell_type": "markdown",
   "metadata": {},
   "source": [
    "## Weather"
   ]
  },
  {
   "cell_type": "code",
   "execution_count": 4,
   "metadata": {},
   "outputs": [
    {
     "name": "stderr",
     "output_type": "stream",
     "text": [
      "21/12/21 23:21:14 WARN package: Truncated the string representation of a plan since it was too large. This behavior can be adjusted by setting 'spark.sql.debug.maxToStringFields'.\n"
     ]
    },
    {
     "name": "stdout",
     "output_type": "stream",
     "text": [
      "\n"
     ]
    },
    {
     "name": "stderr",
     "output_type": "stream",
     "text": [
      "21/12/21 23:21:14 WARN CSVHeaderChecker: Number of column in CSV header is not equal to number of fields in the schema:\n",
      " Header length: 40, schema size: 39\n",
      "CSV file: file:///home/lenny/Projects/DataProjects/vision-airport/data/export_weer.txt\n",
      "21/12/21 23:21:15 WARN CSVHeaderChecker: Number of column in CSV header is not equal to number of fields in the schema:\n",
      " Header length: 40, schema size: 39\n",
      "CSV file: file:///home/lenny/Projects/DataProjects/vision-airport/data/export_weer.txt\n"
     ]
    },
    {
     "data": {
      "text/html": [
       "<table border='1'>\n",
       "<tr><th>date</th><th>DDVEC</th><th>FHVEC</th><th>FG</th><th>FHX</th><th>FHXH</th><th>FHN</th><th>FHNH</th><th>FXX</th><th>FXXH</th><th>TG</th><th>TN</th><th>TNH</th><th>TX</th><th>TXH</th><th>T10N</th><th>T10NH</th><th>SQ</th><th>Q</th><th>DR</th><th>RH</th><th>RHX</th><th>RHXH</th><th>PG</th><th>PX</th><th>PXH</th><th>PN</th><th>PNH</th><th>VVN</th><th>VVNH</th><th>VVX</th><th>VVXH</th><th>NG</th><th>UG</th><th>UX</th><th>UXH</th><th>UN</th><th>UNH</th><th>EV2</th></tr>\n",
       "<tr><td>2014-01-01</td><td>24</td><td>35</td><td>38</td><td>60</td><td>1</td><td>0</td><td>23</td><td>110</td><td>1</td><td>-16</td><td>-63</td><td>24</td><td>7</td><td>14</td><td>-91</td><td>24</td><td>42</td><td>54</td><td>318</td><td>0</td><td>-1</td><td>-1</td><td>2</td><td>10026</td><td>10094</td><td>24</td><td>9978</td><td>3</td><td>57</td><td>23</td><td>75</td><td>2</td><td>4</td><td>78</td><td>93</td><td>23</td><td>67</td><td>12</td></tr>\n",
       "<tr><td>2014-01-02</td><td>212</td><td>22</td><td>31</td><td>50</td><td>18</td><td>10</td><td>1</td><td>80</td><td>21</td><td>-11</td><td>-64</td><td>1</td><td>12</td><td>19</td><td>-86</td><td>6</td><td>0</td><td>0</td><td>117</td><td>8</td><td>1</td><td>1</td><td>17</td><td>10140</td><td>10172</td><td>24</td><td>10101</td><td>1</td><td>37</td><td>23</td><td>61</td><td>5</td><td>8</td><td>91</td><td>94</td><td>9</td><td>89</td><td>14</td></tr>\n",
       "<tr><td>2014-01-03</td><td>33</td><td>17</td><td>25</td><td>60</td><td>1</td><td>0</td><td>18</td><td>100</td><td>2</td><td>-39</td><td>-65</td><td>21</td><td>-10</td><td>14</td><td>-89</td><td>24</td><td>62</td><td>79</td><td>388</td><td>0</td><td>0</td><td>0</td><td>1</td><td>10220</td><td>10238</td><td>20</td><td>10176</td><td>1</td><td>50</td><td>21</td><td>75</td><td>14</td><td>4</td><td>84</td><td>92</td><td>20</td><td>69</td><td>13</td></tr>\n",
       "<tr><td>2014-01-04</td><td>199</td><td>30</td><td>31</td><td>50</td><td>14</td><td>20</td><td>1</td><td>80</td><td>12</td><td>-29</td><td>-54</td><td>8</td><td>-6</td><td>24</td><td>-57</td><td>6</td><td>10</td><td>13</td><td>179</td><td>0</td><td>-1</td><td>-1</td><td>1</td><td>10159</td><td>10222</td><td>1</td><td>10099</td><td>24</td><td>2</td><td>22</td><td>57</td><td>12</td><td>8</td><td>90</td><td>99</td><td>21</td><td>83</td><td>13</td></tr>\n",
       "<tr><td>2014-01-05</td><td>194</td><td>28</td><td>28</td><td>40</td><td>14</td><td>20</td><td>2</td><td>60</td><td>9</td><td>-7</td><td>-30</td><td>22</td><td>19</td><td>13</td><td>-40</td><td>24</td><td>33</td><td>42</td><td>253</td><td>8</td><td>9</td><td>8</td><td>2</td><td>10053</td><td>10094</td><td>1</td><td>10030</td><td>24</td><td>2</td><td>3</td><td>63</td><td>14</td><td>7</td><td>91</td><td>97</td><td>1</td><td>82</td><td>13</td></tr>\n",
       "<tr><td>2014-01-06</td><td>196</td><td>24</td><td>25</td><td>40</td><td>19</td><td>20</td><td>2</td><td>60</td><td>16</td><td>-30</td><td>-52</td><td>3</td><td>-5</td><td>13</td><td>-75</td><td>6</td><td>65</td><td>82</td><td>455</td><td>9</td><td>1</td><td>1</td><td>23</td><td>10040</td><td>10059</td><td>23</td><td>10027</td><td>3</td><td>24</td><td>23</td><td>58</td><td>14</td><td>5</td><td>86</td><td>93</td><td>3</td><td>76</td><td>12</td></tr>\n",
       "<tr><td>2014-01-07</td><td>160</td><td>16</td><td>20</td><td>40</td><td>12</td><td>10</td><td>16</td><td>60</td><td>12</td><td>-49</td><td>-100</td><td>24</td><td>-21</td><td>14</td><td>-123</td><td>24</td><td>56</td><td>70</td><td>408</td><td>0</td><td>-1</td><td>-1</td><td>1</td><td>10110</td><td>10175</td><td>24</td><td>10061</td><td>1</td><td>4</td><td>23</td><td>56</td><td>13</td><td>3</td><td>89</td><td>99</td><td>23</td><td>76</td><td>13</td></tr>\n",
       "<tr><td>2014-01-08</td><td>43</td><td>35</td><td>36</td><td>60</td><td>20</td><td>10</td><td>1</td><td>110</td><td>20</td><td>-50</td><td>-107</td><td>2</td><td>-21</td><td>24</td><td>-131</td><td>6</td><td>29</td><td>36</td><td>216</td><td>0</td><td>0</td><td>0</td><td>1</td><td>10216</td><td>10232</td><td>21</td><td>10178</td><td>1</td><td>18</td><td>1</td><td>68</td><td>24</td><td>6</td><td>87</td><td>93</td><td>4</td><td>77</td><td>21</td></tr>\n",
       "<tr><td>2014-01-09</td><td>32</td><td>73</td><td>73</td><td>80</td><td>8</td><td>70</td><td>1</td><td>150</td><td>14</td><td>-22</td><td>-49</td><td>3</td><td>-5</td><td>24</td><td>-54</td><td>6</td><td>0</td><td>0</td><td>166</td><td>58</td><td>10</td><td>3</td><td>16</td><td>10196</td><td>10228</td><td>1</td><td>10158</td><td>24</td><td>23</td><td>15</td><td>75</td><td>4</td><td>8</td><td>84</td><td>90</td><td>20</td><td>78</td><td>13</td></tr>\n",
       "<tr><td>2014-01-10</td><td>51</td><td>35</td><td>35</td><td>60</td><td>1</td><td>10</td><td>16</td><td>120</td><td>1</td><td>-5</td><td>-10</td><td>21</td><td>2</td><td>12</td><td>-15</td><td>24</td><td>0</td><td>0</td><td>149</td><td>49</td><td>11</td><td>3</td><td>14</td><td>10171</td><td>10194</td><td>24</td><td>10153</td><td>5</td><td>31</td><td>9</td><td>70</td><td>1</td><td>8</td><td>87</td><td>94</td><td>17</td><td>82</td><td>11</td></tr>\n",
       "<tr><td>2014-01-11</td><td>32</td><td>25</td><td>25</td><td>40</td><td>5</td><td>20</td><td>1</td><td>70</td><td>5</td><td>-4</td><td>-9</td><td>24</td><td>0</td><td>12</td><td>-12</td><td>24</td><td>0</td><td>0</td><td>125</td><td>0</td><td>-1</td><td>-1</td><td>3</td><td>10193</td><td>10197</td><td>10</td><td>10190</td><td>24</td><td>15</td><td>3</td><td>67</td><td>15</td><td>8</td><td>87</td><td>94</td><td>3</td><td>83</td><td>12</td></tr>\n",
       "<tr><td>2014-01-12</td><td>94</td><td>35</td><td>38</td><td>60</td><td>19</td><td>10</td><td>1</td><td>100</td><td>23</td><td>-17</td><td>-42</td><td>24</td><td>-7</td><td>10</td><td>-48</td><td>24</td><td>19</td><td>23</td><td>222</td><td>0</td><td>-1</td><td>-1</td><td>2</td><td>10135</td><td>10189</td><td>1</td><td>10070</td><td>24</td><td>27</td><td>8</td><td>61</td><td>18</td><td>7</td><td>83</td><td>94</td><td>6</td><td>74</td><td>20</td></tr>\n",
       "<tr><td>2014-01-13</td><td>103</td><td>47</td><td>48</td><td>60</td><td>1</td><td>30</td><td>23</td><td>90</td><td>1</td><td>-30</td><td>-50</td><td>9</td><td>-12</td><td>24</td><td>-58</td><td>12</td><td>0</td><td>0</td><td>223</td><td>0</td><td>-1</td><td>-1</td><td>16</td><td>10049</td><td>10068</td><td>1</td><td>10038</td><td>15</td><td>24</td><td>18</td><td>59</td><td>5</td><td>6</td><td>78</td><td>92</td><td>24</td><td>68</td><td>14</td></tr>\n",
       "<tr><td>2014-01-14</td><td>114</td><td>22</td><td>25</td><td>30</td><td>1</td><td>20</td><td>3</td><td>50</td><td>1</td><td>6</td><td>-30</td><td>23</td><td>48</td><td>13</td><td>-67</td><td>24</td><td>49</td><td>60</td><td>393</td><td>0</td><td>0</td><td>0</td><td>1</td><td>10087</td><td>10144</td><td>24</td><td>10050</td><td>1</td><td>14</td><td>1</td><td>59</td><td>13</td><td>4</td><td>89</td><td>96</td><td>6</td><td>76</td><td>13</td></tr>\n",
       "<tr><td>2014-01-15</td><td>145</td><td>22</td><td>24</td><td>40</td><td>23</td><td>10</td><td>3</td><td>70</td><td>23</td><td>13</td><td>1</td><td>1</td><td>18</td><td>24</td><td>-3</td><td>6</td><td>0</td><td>0</td><td>114</td><td>0</td><td>0</td><td>0</td><td>1</td><td>10210</td><td>10244</td><td>21</td><td>10149</td><td>1</td><td>8</td><td>17</td><td>56</td><td>9</td><td>8</td><td>92</td><td>99</td><td>17</td><td>86</td><td>11</td></tr>\n",
       "<tr><td>2014-01-16</td><td>141</td><td>53</td><td>54</td><td>70</td><td>11</td><td>30</td><td>2</td><td>120</td><td>15</td><td>10</td><td>-1</td><td>20</td><td>19</td><td>1</td><td>1</td><td>24</td><td>0</td><td>0</td><td>150</td><td>52</td><td>77</td><td>21</td><td>19</td><td>10141</td><td>10236</td><td>1</td><td>10062</td><td>24</td><td>12</td><td>20</td><td>60</td><td>15</td><td>8</td><td>90</td><td>96</td><td>20</td><td>81</td><td>16</td></tr>\n",
       "<tr><td>2014-01-17</td><td>253</td><td>21</td><td>28</td><td>50</td><td>11</td><td>10</td><td>4</td><td>100</td><td>13</td><td>39</td><td>8</td><td>1</td><td>67</td><td>15</td><td>6</td><td>6</td><td>18</td><td>22</td><td>183</td><td>24</td><td>14</td><td>7</td><td>9</td><td>10138</td><td>10219</td><td>24</td><td>10061</td><td>1</td><td>1</td><td>7</td><td>63</td><td>10</td><td>7</td><td>93</td><td>99</td><td>3</td><td>86</td><td>14</td></tr>\n",
       "<tr><td>2014-01-18</td><td>234</td><td>31</td><td>32</td><td>40</td><td>11</td><td>20</td><td>6</td><td>90</td><td>14</td><td>40</td><td>2</td><td>8</td><td>53</td><td>19</td><td>-15</td><td>12</td><td>0</td><td>0</td><td>110</td><td>23</td><td>12</td><td>5</td><td>23</td><td>10240</td><td>10249</td><td>10</td><td>10222</td><td>1</td><td>2</td><td>9</td><td>60</td><td>1</td><td>7</td><td>97</td><td>99</td><td>9</td><td>91</td><td>1</td></tr>\n",
       "<tr><td>2014-01-19</td><td>337</td><td>7</td><td>16</td><td>30</td><td>1</td><td>10</td><td>3</td><td>50</td><td>1</td><td>40</td><td>19</td><td>22</td><td>58</td><td>11</td><td>21</td><td>24</td><td>0</td><td>0</td><td>133</td><td>7</td><td>3</td><td>2</td><td>13</td><td>10226</td><td>10243</td><td>2</td><td>10199</td><td>24</td><td>2</td><td>3</td><td>59</td><td>13</td><td>8</td><td>96</td><td>99</td><td>3</td><td>91</td><td>11</td></tr>\n",
       "<tr><td>2014-01-20</td><td>87</td><td>39</td><td>39</td><td>60</td><td>13</td><td>20</td><td>1</td><td>90</td><td>12</td><td>27</td><td>16</td><td>5</td><td>55</td><td>13</td><td>9</td><td>24</td><td>47</td><td>56</td><td>417</td><td>0</td><td>-1</td><td>-1</td><td>1</td><td>10156</td><td>10192</td><td>1</td><td>10129</td><td>14</td><td>8</td><td>1</td><td>67</td><td>13</td><td>6</td><td>90</td><td>99</td><td>1</td><td>71</td><td>13</td></tr>\n",
       "</table>\n",
       "only showing top 20 rows\n"
      ],
      "text/plain": [
       "+----------+-----+-----+---+---+----+---+----+---+----+---+----+---+---+---+----+-----+---+---+---+---+---+----+---+-----+-----+---+-----+---+----+---+----+---+---+---+---+---+---+---+\n",
       "|      date|DDVEC|FHVEC| FG|FHX|FHXH|FHN|FHNH|FXX|FXXH| TG|  TN|TNH| TX|TXH|T10N|T10NH| SQ|  Q| DR| RH|RHX|RHXH| PG|   PX|  PXH| PN|  PNH|VVN|VVNH|VVX|VVXH| NG| UG| UX|UXH| UN|UNH|EV2|\n",
       "+----------+-----+-----+---+---+----+---+----+---+----+---+----+---+---+---+----+-----+---+---+---+---+---+----+---+-----+-----+---+-----+---+----+---+----+---+---+---+---+---+---+---+\n",
       "|2014-01-01|   24|   35| 38| 60|   1|  0|  23|110|   1|-16| -63| 24|  7| 14| -91|   24| 42| 54|318|  0| -1|  -1|  2|10026|10094| 24| 9978|  3|  57| 23|  75|  2|  4| 78| 93| 23| 67| 12|\n",
       "|2014-01-02|  212|   22| 31| 50|  18| 10|   1| 80|  21|-11| -64|  1| 12| 19| -86|    6|  0|  0|117|  8|  1|   1| 17|10140|10172| 24|10101|  1|  37| 23|  61|  5|  8| 91| 94|  9| 89| 14|\n",
       "|2014-01-03|   33|   17| 25| 60|   1|  0|  18|100|   2|-39| -65| 21|-10| 14| -89|   24| 62| 79|388|  0|  0|   0|  1|10220|10238| 20|10176|  1|  50| 21|  75| 14|  4| 84| 92| 20| 69| 13|\n",
       "|2014-01-04|  199|   30| 31| 50|  14| 20|   1| 80|  12|-29| -54|  8| -6| 24| -57|    6| 10| 13|179|  0| -1|  -1|  1|10159|10222|  1|10099| 24|   2| 22|  57| 12|  8| 90| 99| 21| 83| 13|\n",
       "|2014-01-05|  194|   28| 28| 40|  14| 20|   2| 60|   9| -7| -30| 22| 19| 13| -40|   24| 33| 42|253|  8|  9|   8|  2|10053|10094|  1|10030| 24|   2|  3|  63| 14|  7| 91| 97|  1| 82| 13|\n",
       "|2014-01-06|  196|   24| 25| 40|  19| 20|   2| 60|  16|-30| -52|  3| -5| 13| -75|    6| 65| 82|455|  9|  1|   1| 23|10040|10059| 23|10027|  3|  24| 23|  58| 14|  5| 86| 93|  3| 76| 12|\n",
       "|2014-01-07|  160|   16| 20| 40|  12| 10|  16| 60|  12|-49|-100| 24|-21| 14|-123|   24| 56| 70|408|  0| -1|  -1|  1|10110|10175| 24|10061|  1|   4| 23|  56| 13|  3| 89| 99| 23| 76| 13|\n",
       "|2014-01-08|   43|   35| 36| 60|  20| 10|   1|110|  20|-50|-107|  2|-21| 24|-131|    6| 29| 36|216|  0|  0|   0|  1|10216|10232| 21|10178|  1|  18|  1|  68| 24|  6| 87| 93|  4| 77| 21|\n",
       "|2014-01-09|   32|   73| 73| 80|   8| 70|   1|150|  14|-22| -49|  3| -5| 24| -54|    6|  0|  0|166| 58| 10|   3| 16|10196|10228|  1|10158| 24|  23| 15|  75|  4|  8| 84| 90| 20| 78| 13|\n",
       "|2014-01-10|   51|   35| 35| 60|   1| 10|  16|120|   1| -5| -10| 21|  2| 12| -15|   24|  0|  0|149| 49| 11|   3| 14|10171|10194| 24|10153|  5|  31|  9|  70|  1|  8| 87| 94| 17| 82| 11|\n",
       "|2014-01-11|   32|   25| 25| 40|   5| 20|   1| 70|   5| -4|  -9| 24|  0| 12| -12|   24|  0|  0|125|  0| -1|  -1|  3|10193|10197| 10|10190| 24|  15|  3|  67| 15|  8| 87| 94|  3| 83| 12|\n",
       "|2014-01-12|   94|   35| 38| 60|  19| 10|   1|100|  23|-17| -42| 24| -7| 10| -48|   24| 19| 23|222|  0| -1|  -1|  2|10135|10189|  1|10070| 24|  27|  8|  61| 18|  7| 83| 94|  6| 74| 20|\n",
       "|2014-01-13|  103|   47| 48| 60|   1| 30|  23| 90|   1|-30| -50|  9|-12| 24| -58|   12|  0|  0|223|  0| -1|  -1| 16|10049|10068|  1|10038| 15|  24| 18|  59|  5|  6| 78| 92| 24| 68| 14|\n",
       "|2014-01-14|  114|   22| 25| 30|   1| 20|   3| 50|   1|  6| -30| 23| 48| 13| -67|   24| 49| 60|393|  0|  0|   0|  1|10087|10144| 24|10050|  1|  14|  1|  59| 13|  4| 89| 96|  6| 76| 13|\n",
       "|2014-01-15|  145|   22| 24| 40|  23| 10|   3| 70|  23| 13|   1|  1| 18| 24|  -3|    6|  0|  0|114|  0|  0|   0|  1|10210|10244| 21|10149|  1|   8| 17|  56|  9|  8| 92| 99| 17| 86| 11|\n",
       "|2014-01-16|  141|   53| 54| 70|  11| 30|   2|120|  15| 10|  -1| 20| 19|  1|   1|   24|  0|  0|150| 52| 77|  21| 19|10141|10236|  1|10062| 24|  12| 20|  60| 15|  8| 90| 96| 20| 81| 16|\n",
       "|2014-01-17|  253|   21| 28| 50|  11| 10|   4|100|  13| 39|   8|  1| 67| 15|   6|    6| 18| 22|183| 24| 14|   7|  9|10138|10219| 24|10061|  1|   1|  7|  63| 10|  7| 93| 99|  3| 86| 14|\n",
       "|2014-01-18|  234|   31| 32| 40|  11| 20|   6| 90|  14| 40|   2|  8| 53| 19| -15|   12|  0|  0|110| 23| 12|   5| 23|10240|10249| 10|10222|  1|   2|  9|  60|  1|  7| 97| 99|  9| 91|  1|\n",
       "|2014-01-19|  337|    7| 16| 30|   1| 10|   3| 50|   1| 40|  19| 22| 58| 11|  21|   24|  0|  0|133|  7|  3|   2| 13|10226|10243|  2|10199| 24|   2|  3|  59| 13|  8| 96| 99|  3| 91| 11|\n",
       "|2014-01-20|   87|   39| 39| 60|  13| 20|   1| 90|  12| 27|  16|  5| 55| 13|   9|   24| 47| 56|417|  0| -1|  -1|  1|10156|10192|  1|10129| 14|   8|  1|  67| 13|  6| 90| 99|  1| 71| 13|\n",
       "+----------+-----+-----+---+---+----+---+----+---+----+---+----+---+---+---+----+-----+---+---+---+---+---+----+---+-----+-----+---+-----+---+----+---+----+---+---+---+---+---+---+---+\n",
       "only showing top 20 rows"
      ]
     },
     "execution_count": 4,
     "metadata": {},
     "output_type": "execute_result"
    }
   ],
   "source": [
    "# WEATHER DATAFRAME\n",
    "\n",
    "weather_schema = StructType([\n",
    "    StructField('date', DateType(), True),\n",
    "    StructField('DDVEC', IntegerType(), True),\n",
    "    StructField('FHVEC', IntegerType(), True),\n",
    "    StructField('FG', IntegerType(), True),\n",
    "    StructField('FHX', IntegerType(), True),\n",
    "    StructField('FHXH', IntegerType(), True),\n",
    "    StructField('FHN', IntegerType(), True),\n",
    "    StructField('FHNH', IntegerType(), True),\n",
    "    StructField('FXX', IntegerType(), True),\n",
    "    StructField('FXXH', IntegerType(), True),\n",
    "    StructField('TG', IntegerType(), True),\n",
    "    StructField('TN', IntegerType(), True),\n",
    "    StructField('TNH', IntegerType(), True),\n",
    "    StructField('TX', IntegerType(), True),\n",
    "    StructField('TXH', IntegerType(), True),\n",
    "    StructField('T10N', IntegerType(), True),\n",
    "    StructField('T10NH', IntegerType(), True),\n",
    "    StructField('SQ', IntegerType(), True),\n",
    "    StructField('Q', IntegerType(), True),\n",
    "    StructField('DR', IntegerType(), True),\n",
    "    StructField('RH', IntegerType(), True),\n",
    "    StructField('RHX', IntegerType(), True),\n",
    "    StructField('RHXH', IntegerType(), True),\n",
    "    StructField('PG', IntegerType(), True),\n",
    "    StructField('PX', IntegerType(), True),\n",
    "    StructField('PXH', IntegerType(), True),\n",
    "    StructField('PN', IntegerType(), True),\n",
    "    StructField('PNH', IntegerType(), True),\n",
    "    StructField('VVN', IntegerType(), True),\n",
    "    StructField('VVNH', IntegerType(), True),\n",
    "    StructField('VVX', IntegerType(), True),\n",
    "    StructField('VVXH', IntegerType(), True),\n",
    "    StructField('NG', IntegerType(), True),\n",
    "    StructField('UG', IntegerType(), True),\n",
    "    StructField('UX', IntegerType(), True),\n",
    "    StructField('UXH', IntegerType(), True),\n",
    "    StructField('UN', IntegerType(), True),\n",
    "    StructField('UNH', IntegerType(), True),\n",
    "    StructField('EV2', IntegerType(), True),\n",
    "])\n",
    "\n",
    "weather_df = spark.read.csv(\n",
    "    \"./data/export_weer.txt\", \n",
    "    header=True,\n",
    "    sep=\"\\t\",\n",
    "    multiLine=True,\n",
    "    schema=weather_schema\n",
    ")\n",
    "\n",
    "try:\n",
    "    weather_df.write.parquet(\"aws/weather.parquet\")\n",
    "except:\n",
    "    print(\"\")\n",
    "weather_df"
   ]
  },
  {
   "cell_type": "markdown",
   "metadata": {},
   "source": [
    "## Customers"
   ]
  },
  {
   "cell_type": "code",
   "execution_count": 5,
   "metadata": {},
   "outputs": [
    {
     "name": "stdout",
     "output_type": "stream",
     "text": [
      "\n"
     ]
    },
    {
     "name": "stderr",
     "output_type": "stream",
     "text": [
      "21/12/21 23:21:15 WARN CSVHeaderChecker: CSV header does not conform to the schema.\n",
      " Header: Vluchtid, Operatie, Faciliteiten, Shops\n",
      " Schema: id, operation, facilities, shops\n",
      "Expected: id but found: Vluchtid\n",
      "CSV file: file:///home/lenny/Projects/DataProjects/vision-airport/data/export_klant.csv\n",
      "21/12/21 23:21:15 WARN CSVHeaderChecker: CSV header does not conform to the schema.\n",
      " Header: Vluchtid, Operatie, Faciliteiten, Shops\n",
      " Schema: id, operation, facilities, shops\n",
      "Expected: id but found: Vluchtid\n",
      "CSV file: file:///home/lenny/Projects/DataProjects/vision-airport/data/export_klant.csv\n"
     ]
    },
    {
     "data": {
      "text/html": [
       "<table border='1'>\n",
       "<tr><th>id</th><th>operation</th><th>facilities</th><th>shops</th></tr>\n",
       "<tr><td>1317307</td><td>7.2</td><td>8.5</td><td>null</td></tr>\n",
       "<tr><td>1317327</td><td>7.4</td><td>8.0</td><td>null</td></tr>\n",
       "<tr><td>1317352</td><td>7.0</td><td>6.9</td><td>6.9</td></tr>\n",
       "<tr><td>1317395</td><td>6.5</td><td>7.3</td><td>7.0</td></tr>\n",
       "<tr><td>1317406</td><td>6.9</td><td>6.9</td><td>6.3</td></tr>\n",
       "<tr><td>1317488</td><td>6.4</td><td>5.2</td><td>6.8</td></tr>\n",
       "<tr><td>1317506</td><td>4.7</td><td>5.9</td><td>7.1</td></tr>\n",
       "<tr><td>1317508</td><td>6.7</td><td>8.5</td><td>6.2</td></tr>\n",
       "<tr><td>1317514</td><td>6.1</td><td>3.6</td><td>7.2</td></tr>\n",
       "<tr><td>1317559</td><td>6.0</td><td>7.6</td><td>6.6</td></tr>\n",
       "<tr><td>1317587</td><td>6.3</td><td>7.2</td><td>5.6</td></tr>\n",
       "<tr><td>1317629</td><td>6.9</td><td>4.1</td><td>6.2</td></tr>\n",
       "<tr><td>1317633</td><td>6.4</td><td>5.2</td><td>4.6</td></tr>\n",
       "<tr><td>1317646</td><td>6.3</td><td>6.4</td><td>5.5</td></tr>\n",
       "<tr><td>1317655</td><td>6.6</td><td>5.8</td><td>6.2</td></tr>\n",
       "<tr><td>1317712</td><td>5.4</td><td>8.0</td><td>6.2</td></tr>\n",
       "<tr><td>1317809</td><td>7.7</td><td>6.2</td><td>null</td></tr>\n",
       "<tr><td>1317811</td><td>6.9</td><td>6.0</td><td>null</td></tr>\n",
       "<tr><td>1317817</td><td>6.9</td><td>9.5</td><td>null</td></tr>\n",
       "<tr><td>1317902</td><td>7.6</td><td>4.5</td><td>5.9</td></tr>\n",
       "</table>\n",
       "only showing top 20 rows\n"
      ],
      "text/plain": [
       "+-------+---------+----------+-----+\n",
       "|     id|operation|facilities|shops|\n",
       "+-------+---------+----------+-----+\n",
       "|1317307|      7.2|       8.5| null|\n",
       "|1317327|      7.4|       8.0| null|\n",
       "|1317352|      7.0|       6.9|  6.9|\n",
       "|1317395|      6.5|       7.3|  7.0|\n",
       "|1317406|      6.9|       6.9|  6.3|\n",
       "|1317488|      6.4|       5.2|  6.8|\n",
       "|1317506|      4.7|       5.9|  7.1|\n",
       "|1317508|      6.7|       8.5|  6.2|\n",
       "|1317514|      6.1|       3.6|  7.2|\n",
       "|1317559|      6.0|       7.6|  6.6|\n",
       "|1317587|      6.3|       7.2|  5.6|\n",
       "|1317629|      6.9|       4.1|  6.2|\n",
       "|1317633|      6.4|       5.2|  4.6|\n",
       "|1317646|      6.3|       6.4|  5.5|\n",
       "|1317655|      6.6|       5.8|  6.2|\n",
       "|1317712|      5.4|       8.0|  6.2|\n",
       "|1317809|      7.7|       6.2| null|\n",
       "|1317811|      6.9|       6.0| null|\n",
       "|1317817|      6.9|       9.5| null|\n",
       "|1317902|      7.6|       4.5|  5.9|\n",
       "+-------+---------+----------+-----+\n",
       "only showing top 20 rows"
      ]
     },
     "execution_count": 5,
     "metadata": {},
     "output_type": "execute_result"
    }
   ],
   "source": [
    "# CUSTOMERS DATAFRAME\n",
    "\n",
    "customers_schema = StructType([\n",
    "    StructField('id', IntegerType(), True),\n",
    "    StructField('operation', FloatType(), True),\n",
    "    StructField('facilities', FloatType(), True),\n",
    "    StructField('shops', FloatType(), True),\n",
    "])\n",
    "\n",
    "\n",
    "customers_df = spark.read.csv(\n",
    "    \"./data/export_klant.csv\", \n",
    "    header=True,\n",
    "    sep=\";\",\n",
    "    multiLine=True,\n",
    "    schema=customers_schema\n",
    ")\n",
    "\n",
    "try:\n",
    "    customers_df.write.parquet(\"aws/customers.parquet\")\n",
    "except:\n",
    "    print(\"\")\n",
    "customers_df"
   ]
  },
  {
   "cell_type": "markdown",
   "metadata": {},
   "source": [
    "## Vertrek"
   ]
  },
  {
   "cell_type": "code",
   "execution_count": 6,
   "metadata": {},
   "outputs": [
    {
     "name": "stdout",
     "output_type": "stream",
     "text": [
      "\n"
     ]
    },
    {
     "data": {
      "text/html": [
       "<table border='1'>\n",
       "<tr><th>Vluchtid</th><th>Vliegtuigcode</th><th>Terminal</th><th>Gate</th><th>Baan</th><th>Bezetting</th><th>Vracht</th><th>Vertrektijd</th></tr>\n",
       "<tr><td>935992</td><td>VTK297</td><td>B</td><td>B5</td><td>2</td><td>69</td><td>null</td><td>2014-01-01 02:46:00</td></tr>\n",
       "<tr><td>935993</td><td>VDL5829</td><td>D</td><td>D5</td><td>2</td><td>78</td><td>null</td><td>2014-01-01 02:57:00</td></tr>\n",
       "<tr><td>935994</td><td>VSU1831</td><td>D</td><td>D3</td><td>2</td><td>85</td><td>null</td><td>2014-01-01 03:07:00</td></tr>\n",
       "<tr><td>935995</td><td>VEZY741</td><td>C</td><td>C4</td><td>2</td><td>54</td><td>null</td><td>2014-01-01 03:33:00</td></tr>\n",
       "<tr><td>935996</td><td>VKL499</td><td>C</td><td>C2</td><td>2</td><td>71</td><td>null</td><td>2014-01-01 03:48:00</td></tr>\n",
       "<tr><td>935997</td><td>VGA4943</td><td>D</td><td>D2</td><td>2</td><td>69</td><td>null</td><td>2014-01-01 03:50:00</td></tr>\n",
       "<tr><td>935999</td><td>VKL315</td><td>C</td><td>C1</td><td>2</td><td>71</td><td>null</td><td>2014-01-01 04:04:00</td></tr>\n",
       "<tr><td>936000</td><td>VHV381</td><td>A</td><td>A4</td><td>2</td><td>49</td><td>null</td><td>2014-01-01 04:05:00</td></tr>\n",
       "<tr><td>936002</td><td>VBT361</td><td>B</td><td>B4</td><td>2</td><td>86</td><td>null</td><td>2014-01-01 04:17:00</td></tr>\n",
       "<tr><td>936003</td><td>VDY439</td><td>C</td><td>C7</td><td>2</td><td>84</td><td>null</td><td>2014-01-01 04:19:00</td></tr>\n",
       "<tr><td>936004</td><td>VEI109</td><td>C</td><td>C6</td><td>2</td><td>75</td><td>null</td><td>2014-01-01 04:26:00</td></tr>\n",
       "<tr><td>936005</td><td>VAZ577</td><td>B</td><td>B3</td><td>2</td><td>55</td><td>null</td><td>2014-01-01 04:28:00</td></tr>\n",
       "<tr><td>936006</td><td>VKL3123</td><td>E</td><td>E1</td><td>2</td><td>63</td><td>null</td><td>2014-01-01 04:34:00</td></tr>\n",
       "<tr><td>936007</td><td>VFR735</td><td>A</td><td>A1</td><td>2</td><td>52</td><td>null</td><td>2014-01-01 04:34:00</td></tr>\n",
       "<tr><td>936008</td><td>VUA2363</td><td>E</td><td>E4</td><td>2</td><td>78</td><td>null</td><td>2014-01-01 04:36:00</td></tr>\n",
       "<tr><td>936010</td><td>VEZY461</td><td>C</td><td>C5</td><td>2</td><td>66</td><td>null</td><td>2014-01-01 04:39:00</td></tr>\n",
       "<tr><td>936011</td><td>VSQ2993</td><td>D</td><td>D4</td><td>2</td><td>65</td><td>null</td><td>2014-01-01 04:40:00</td></tr>\n",
       "<tr><td>936014</td><td>VLH291</td><td>C</td><td>C3</td><td>2</td><td>80</td><td>null</td><td>2014-01-01 05:03:00</td></tr>\n",
       "<tr><td>936015</td><td>VHV303</td><td>A</td><td>A2</td><td>2</td><td>62</td><td>null</td><td>2014-01-01 05:04:00</td></tr>\n",
       "<tr><td>936016</td><td>VKL301</td><td>C</td><td>C1</td><td>2</td><td>62</td><td>null</td><td>2014-01-01 05:21:00</td></tr>\n",
       "</table>\n",
       "only showing top 20 rows\n"
      ],
      "text/plain": [
       "+--------+-------------+--------+----+----+---------+------+-------------------+\n",
       "|Vluchtid|Vliegtuigcode|Terminal|Gate|Baan|Bezetting|Vracht|        Vertrektijd|\n",
       "+--------+-------------+--------+----+----+---------+------+-------------------+\n",
       "|  935992|       VTK297|       B|  B5|   2|       69|  null|2014-01-01 02:46:00|\n",
       "|  935993|      VDL5829|       D|  D5|   2|       78|  null|2014-01-01 02:57:00|\n",
       "|  935994|      VSU1831|       D|  D3|   2|       85|  null|2014-01-01 03:07:00|\n",
       "|  935995|      VEZY741|       C|  C4|   2|       54|  null|2014-01-01 03:33:00|\n",
       "|  935996|       VKL499|       C|  C2|   2|       71|  null|2014-01-01 03:48:00|\n",
       "|  935997|      VGA4943|       D|  D2|   2|       69|  null|2014-01-01 03:50:00|\n",
       "|  935999|       VKL315|       C|  C1|   2|       71|  null|2014-01-01 04:04:00|\n",
       "|  936000|       VHV381|       A|  A4|   2|       49|  null|2014-01-01 04:05:00|\n",
       "|  936002|       VBT361|       B|  B4|   2|       86|  null|2014-01-01 04:17:00|\n",
       "|  936003|       VDY439|       C|  C7|   2|       84|  null|2014-01-01 04:19:00|\n",
       "|  936004|       VEI109|       C|  C6|   2|       75|  null|2014-01-01 04:26:00|\n",
       "|  936005|       VAZ577|       B|  B3|   2|       55|  null|2014-01-01 04:28:00|\n",
       "|  936006|      VKL3123|       E|  E1|   2|       63|  null|2014-01-01 04:34:00|\n",
       "|  936007|       VFR735|       A|  A1|   2|       52|  null|2014-01-01 04:34:00|\n",
       "|  936008|      VUA2363|       E|  E4|   2|       78|  null|2014-01-01 04:36:00|\n",
       "|  936010|      VEZY461|       C|  C5|   2|       66|  null|2014-01-01 04:39:00|\n",
       "|  936011|      VSQ2993|       D|  D4|   2|       65|  null|2014-01-01 04:40:00|\n",
       "|  936014|       VLH291|       C|  C3|   2|       80|  null|2014-01-01 05:03:00|\n",
       "|  936015|       VHV303|       A|  A2|   2|       62|  null|2014-01-01 05:04:00|\n",
       "|  936016|       VKL301|       C|  C1|   2|       62|  null|2014-01-01 05:21:00|\n",
       "+--------+-------------+--------+----+----+---------+------+-------------------+\n",
       "only showing top 20 rows"
      ]
     },
     "execution_count": 6,
     "metadata": {},
     "output_type": "execute_result"
    }
   ],
   "source": [
    "vertrek_schema = StructType([\n",
    "    StructField(\"Vluchtid\", IntegerType(), False),\n",
    "    StructField(\"Vliegtuigcode\",StringType(),True),\n",
    "    StructField(\"Terminal\", StringType(),True),\n",
    "    StructField(\"Gate\", StringType(), True),\n",
    "    StructField(\"Baan\", ShortType(), True),\n",
    "    StructField(\"Bezetting\", IntegerType(), True),\n",
    "    StructField(\"Vracht\", IntegerType(), True),\n",
    "    StructField(\"Vertrektijd\", TimestampType(), True)\n",
    "  ])\n",
    "\n",
    "vertrek_df = spark.read.csv(\n",
    "    DATADIR + \"/export_vertrek.txt\", \n",
    "    header=True,\n",
    "    sep='\\t',\n",
    "    schema=vertrek_schema\n",
    ")\n",
    "try:\n",
    "    vertrek_df.write.parquet(\"aws/vertrek.parquet\")\n",
    "except:\n",
    "    print(\"\")\n",
    "\n",
    "vertrek_df"
   ]
  },
  {
   "cell_type": "markdown",
   "metadata": {},
   "source": [
    "## Aankomst"
   ]
  },
  {
   "cell_type": "code",
   "execution_count": 7,
   "metadata": {},
   "outputs": [
    {
     "name": "stdout",
     "output_type": "stream",
     "text": [
      "\n"
     ]
    },
    {
     "data": {
      "text/html": [
       "<table border='1'>\n",
       "<tr><th>Vluchtid</th><th>Vliegtuigcode</th><th>Terminal</th><th>Gate</th><th>Baan</th><th>Bezetting</th><th>Vracht</th><th>Aankomsttijd</th></tr>\n",
       "<tr><td>935998</td><td>VFR735</td><td>A</td><td>A1</td><td>1</td><td>45</td><td>null</td><td>2014-01-01 03:53:00</td></tr>\n",
       "<tr><td>936001</td><td>VHV303</td><td>A</td><td>A2</td><td>1</td><td>62</td><td>null</td><td>2014-01-01 04:15:00</td></tr>\n",
       "<tr><td>936009</td><td>VKL301</td><td>C</td><td>C1</td><td>1</td><td>58</td><td>null</td><td>2014-01-01 04:38:00</td></tr>\n",
       "<tr><td>936012</td><td>VTK505</td><td>B</td><td>B5</td><td>1</td><td>67</td><td>null</td><td>2014-01-01 04:43:00</td></tr>\n",
       "<tr><td>936013</td><td>VKL859</td><td>C</td><td>C2</td><td>1</td><td>71</td><td>null</td><td>2014-01-01 04:54:00</td></tr>\n",
       "<tr><td>936018</td><td>VA3599</td><td>A</td><td>A6</td><td>1</td><td>61</td><td>null</td><td>2014-01-01 05:35:00</td></tr>\n",
       "<tr><td>936020</td><td>VCAO9406</td><td>F</td><td>null</td><td>1</td><td>null</td><td>33</td><td>2014-01-01 05:54:00</td></tr>\n",
       "<tr><td>936021</td><td>VKL447</td><td>C</td><td>C1</td><td>1</td><td>82</td><td>null</td><td>2014-01-01 05:58:00</td></tr>\n",
       "<tr><td>936022</td><td>VKL2761</td><td>E</td><td>E2</td><td>1</td><td>70</td><td>null</td><td>2014-01-01 05:59:00</td></tr>\n",
       "<tr><td>936023</td><td>VFDX9706</td><td>F</td><td>null</td><td>1</td><td>null</td><td>36</td><td>2014-01-01 05:59:00</td></tr>\n",
       "<tr><td>936024</td><td>VHV573</td><td>A</td><td>A2</td><td>1</td><td>63</td><td>null</td><td>2014-01-01 06:01:00</td></tr>\n",
       "<tr><td>936025</td><td>VIB667</td><td>C</td><td>C7</td><td>1</td><td>66</td><td>null</td><td>2014-01-01 06:09:00</td></tr>\n",
       "<tr><td>936026</td><td>VSQC8052</td><td>F</td><td>null</td><td>1</td><td>null</td><td>48</td><td>2014-01-01 06:11:00</td></tr>\n",
       "<tr><td>936028</td><td>VFR455</td><td>A</td><td>A1</td><td>1</td><td>57</td><td>null</td><td>2014-01-01 06:16:00</td></tr>\n",
       "<tr><td>936029</td><td>VKL85</td><td>C</td><td>C2</td><td>1</td><td>76</td><td>null</td><td>2014-01-01 06:17:00</td></tr>\n",
       "<tr><td>936030</td><td>VCAL7070</td><td>F</td><td>null</td><td>1</td><td>null</td><td>57</td><td>2014-01-01 06:18:00</td></tr>\n",
       "<tr><td>936031</td><td>VMPH6537</td><td>F</td><td>null</td><td>1</td><td>null</td><td>45</td><td>2014-01-01 06:25:00</td></tr>\n",
       "<tr><td>936032</td><td>VKL5715</td><td>E</td><td>E1</td><td>1</td><td>72</td><td>null</td><td>2014-01-01 06:28:00</td></tr>\n",
       "<tr><td>936034</td><td>VIR3141</td><td>D</td><td>D2</td><td>1</td><td>75</td><td>null</td><td>2014-01-01 06:31:00</td></tr>\n",
       "<tr><td>936038</td><td>VBA941</td><td>C</td><td>C3</td><td>1</td><td>61</td><td>null</td><td>2014-01-01 06:37:00</td></tr>\n",
       "</table>\n",
       "only showing top 20 rows\n"
      ],
      "text/plain": [
       "+--------+-------------+--------+----+----+---------+------+-------------------+\n",
       "|Vluchtid|Vliegtuigcode|Terminal|Gate|Baan|Bezetting|Vracht|       Aankomsttijd|\n",
       "+--------+-------------+--------+----+----+---------+------+-------------------+\n",
       "|  935998|       VFR735|       A|  A1|   1|       45|  null|2014-01-01 03:53:00|\n",
       "|  936001|       VHV303|       A|  A2|   1|       62|  null|2014-01-01 04:15:00|\n",
       "|  936009|       VKL301|       C|  C1|   1|       58|  null|2014-01-01 04:38:00|\n",
       "|  936012|       VTK505|       B|  B5|   1|       67|  null|2014-01-01 04:43:00|\n",
       "|  936013|       VKL859|       C|  C2|   1|       71|  null|2014-01-01 04:54:00|\n",
       "|  936018|       VA3599|       A|  A6|   1|       61|  null|2014-01-01 05:35:00|\n",
       "|  936020|     VCAO9406|       F|null|   1|     null|    33|2014-01-01 05:54:00|\n",
       "|  936021|       VKL447|       C|  C1|   1|       82|  null|2014-01-01 05:58:00|\n",
       "|  936022|      VKL2761|       E|  E2|   1|       70|  null|2014-01-01 05:59:00|\n",
       "|  936023|     VFDX9706|       F|null|   1|     null|    36|2014-01-01 05:59:00|\n",
       "|  936024|       VHV573|       A|  A2|   1|       63|  null|2014-01-01 06:01:00|\n",
       "|  936025|       VIB667|       C|  C7|   1|       66|  null|2014-01-01 06:09:00|\n",
       "|  936026|     VSQC8052|       F|null|   1|     null|    48|2014-01-01 06:11:00|\n",
       "|  936028|       VFR455|       A|  A1|   1|       57|  null|2014-01-01 06:16:00|\n",
       "|  936029|        VKL85|       C|  C2|   1|       76|  null|2014-01-01 06:17:00|\n",
       "|  936030|     VCAL7070|       F|null|   1|     null|    57|2014-01-01 06:18:00|\n",
       "|  936031|     VMPH6537|       F|null|   1|     null|    45|2014-01-01 06:25:00|\n",
       "|  936032|      VKL5715|       E|  E1|   1|       72|  null|2014-01-01 06:28:00|\n",
       "|  936034|      VIR3141|       D|  D2|   1|       75|  null|2014-01-01 06:31:00|\n",
       "|  936038|       VBA941|       C|  C3|   1|       61|  null|2014-01-01 06:37:00|\n",
       "+--------+-------------+--------+----+----+---------+------+-------------------+\n",
       "only showing top 20 rows"
      ]
     },
     "execution_count": 7,
     "metadata": {},
     "output_type": "execute_result"
    }
   ],
   "source": [
    "aankomst_schema = StructType([\n",
    "    StructField(\"Vluchtid\", IntegerType(), False),\n",
    "    StructField(\"Vliegtuigcode\",StringType(),True),\n",
    "    StructField(\"Terminal\", StringType(), True),\n",
    "    StructField(\"Gate\", StringType(), True),\n",
    "    StructField(\"Baan\", ShortType(), True),\n",
    "    StructField(\"Bezetting\", IntegerType(), True),\n",
    "    StructField(\"Vracht\", IntegerType(), True),\n",
    "    StructField(\"Aankomsttijd\", TimestampType(), True)\n",
    "  ])\n",
    "\n",
    "aankomst_df = spark.read.csv(\n",
    "    DATADIR + \"/export_aankomst.txt\", \n",
    "    header=True,\n",
    "    sep='\\t',\n",
    "    schema=aankomst_schema\n",
    ")\n",
    "\n",
    "try:\n",
    "    aankomst_df.write.parquet(\"aws/aankomst.parquet\")\n",
    "except:\n",
    "    print(\"\")\n",
    "aankomst_df"
   ]
  },
  {
   "cell_type": "markdown",
   "metadata": {},
   "source": [
    "## Planning"
   ]
  },
  {
   "cell_type": "code",
   "execution_count": 8,
   "metadata": {},
   "outputs": [
    {
     "name": "stdout",
     "output_type": "stream",
     "text": [
      "\n"
     ]
    },
    {
     "data": {
      "text/html": [
       "<table border='1'>\n",
       "<tr><th>Vluchtnr</th><th>Airlinecode</th><th>Destcode</th><th>Planterminal</th><th>Plangate</th><th>Plantijd</th></tr>\n",
       "<tr><td>null</td><td>9W</td><td>DEL</td><td>D</td><td>D2</td><td>2:10 PM</td></tr>\n",
       "<tr><td>null</td><td>9W</td><td>DEL</td><td>D</td><td>D2</td><td>3:25 PM</td></tr>\n",
       "<tr><td>null</td><td>A3</td><td>ATH</td><td>A</td><td>A6</td><td>5:10 AM</td></tr>\n",
       "<tr><td>null</td><td>A3</td><td>ATH</td><td>A</td><td>A6</td><td>5:55 AM</td></tr>\n",
       "<tr><td>null</td><td>A3</td><td>ATH</td><td>A</td><td>A6</td><td>2:45 PM</td></tr>\n",
       "<tr><td>null</td><td>A3</td><td>ATH</td><td>A</td><td>A6</td><td>3:30 PM</td></tr>\n",
       "<tr><td>null</td><td>A3</td><td>ATH</td><td>A</td><td>A6</td><td>8:05 AM</td></tr>\n",
       "<tr><td>null</td><td>A3</td><td>ATH</td><td>A</td><td>A6</td><td>8:50 AM</td></tr>\n",
       "<tr><td>null</td><td>A3</td><td>ATH</td><td>A</td><td>A6</td><td>8:50 PM</td></tr>\n",
       "<tr><td>null</td><td>A3</td><td>ATH</td><td>A</td><td>A6</td><td>9:35 PM</td></tr>\n",
       "<tr><td>null</td><td>AA</td><td>LAS</td><td>D</td><td>D6</td><td>9:20 AM</td></tr>\n",
       "<tr><td>null</td><td>AA</td><td>LAS</td><td>D</td><td>D6</td><td>10:35 AM</td></tr>\n",
       "<tr><td>null</td><td>AC</td><td>YYZ</td><td>D</td><td>D6</td><td>11:20 PM</td></tr>\n",
       "<tr><td>null</td><td>AC</td><td>YYZ</td><td>D</td><td>D6</td><td>2:50 AM</td></tr>\n",
       "<tr><td>null</td><td>AF</td><td>CDG</td><td>C</td><td>C6</td><td>11:15 AM</td></tr>\n",
       "<tr><td>null</td><td>AF</td><td>CDG</td><td>C</td><td>C6</td><td>12:00 PM</td></tr>\n",
       "<tr><td>null</td><td>AF</td><td>CDG</td><td>C</td><td>C6</td><td>8:50 PM</td></tr>\n",
       "<tr><td>null</td><td>AF</td><td>CDG</td><td>C</td><td>C6</td><td>9:35 PM</td></tr>\n",
       "<tr><td>null</td><td>AF</td><td>SXB</td><td>C</td><td>C6</td><td>12:45 PM</td></tr>\n",
       "<tr><td>null</td><td>AF</td><td>SXB</td><td>C</td><td>C6</td><td>1:30 PM</td></tr>\n",
       "</table>\n",
       "only showing top 20 rows\n"
      ],
      "text/plain": [
       "+--------+-----------+--------+------------+--------+--------+\n",
       "|Vluchtnr|Airlinecode|Destcode|Planterminal|Plangate|Plantijd|\n",
       "+--------+-----------+--------+------------+--------+--------+\n",
       "|    null|         9W|     DEL|           D|      D2| 2:10 PM|\n",
       "|    null|         9W|     DEL|           D|      D2| 3:25 PM|\n",
       "|    null|         A3|     ATH|           A|      A6| 5:10 AM|\n",
       "|    null|         A3|     ATH|           A|      A6| 5:55 AM|\n",
       "|    null|         A3|     ATH|           A|      A6| 2:45 PM|\n",
       "|    null|         A3|     ATH|           A|      A6| 3:30 PM|\n",
       "|    null|         A3|     ATH|           A|      A6| 8:05 AM|\n",
       "|    null|         A3|     ATH|           A|      A6| 8:50 AM|\n",
       "|    null|         A3|     ATH|           A|      A6| 8:50 PM|\n",
       "|    null|         A3|     ATH|           A|      A6| 9:35 PM|\n",
       "|    null|         AA|     LAS|           D|      D6| 9:20 AM|\n",
       "|    null|         AA|     LAS|           D|      D6|10:35 AM|\n",
       "|    null|         AC|     YYZ|           D|      D6|11:20 PM|\n",
       "|    null|         AC|     YYZ|           D|      D6| 2:50 AM|\n",
       "|    null|         AF|     CDG|           C|      C6|11:15 AM|\n",
       "|    null|         AF|     CDG|           C|      C6|12:00 PM|\n",
       "|    null|         AF|     CDG|           C|      C6| 8:50 PM|\n",
       "|    null|         AF|     CDG|           C|      C6| 9:35 PM|\n",
       "|    null|         AF|     SXB|           C|      C6|12:45 PM|\n",
       "|    null|         AF|     SXB|           C|      C6| 1:30 PM|\n",
       "+--------+-----------+--------+------------+--------+--------+\n",
       "only showing top 20 rows"
      ]
     },
     "execution_count": 8,
     "metadata": {},
     "output_type": "execute_result"
    }
   ],
   "source": [
    "planning_schema = StructType([\n",
    "    StructField(\"Vluchtnr\", IntegerType(), False),\n",
    "    StructField(\"Airlinecode\", StringType(), True),\n",
    "    StructField(\"Destcode\", StringType(), True),\n",
    "    StructField(\"Planterminal\", StringType(), True),\n",
    "    StructField(\"Plangate\", StringType(), True),\n",
    "    StructField(\"Plantijd\", StringType(), True)\n",
    "  ])\n",
    "\n",
    "planning_df = spark.read.csv(\n",
    "    DATADIR + \"/export_planning.txt\", \n",
    "    header=True,\n",
    "    sep='\\t',\n",
    "    schema=planning_schema\n",
    ")\n",
    "try:\n",
    "    planning_df.write.parquet(\"aws/planning.parquet\")\n",
    "except:\n",
    "    print(\"\")\n",
    "planning_df"
   ]
  },
  {
   "cell_type": "markdown",
   "metadata": {},
   "source": [
    "## Banen"
   ]
  },
  {
   "cell_type": "code",
   "execution_count": 9,
   "metadata": {},
   "outputs": [
    {
     "name": "stdout",
     "output_type": "stream",
     "text": [
      "\n"
     ]
    },
    {
     "data": {
      "text/html": [
       "<table border='1'>\n",
       "<tr><th>Baannummer</th><th>Code</th><th>Naam</th><th>Lengte</th></tr>\n",
       "<tr><td>1</td><td>09-27</td><td>Marloes Boumansbaan</td><td>3200</td></tr>\n",
       "<tr><td>2</td><td>18R-36L</td><td>Joost van den Bem...</td><td>3600</td></tr>\n",
       "<tr><td>3</td><td>18L-36R</td><td>Frank de Ruijterbaan</td><td>4000</td></tr>\n",
       "<tr><td>4</td><td>18C-36C</td><td>Stépan Breedveldbaan</td><td>3500</td></tr>\n",
       "<tr><td>5</td><td>06-24</td><td>Hans Dellebekebaan</td><td>3500</td></tr>\n",
       "<tr><td>6</td><td>04-22</td><td>Sjoerd Eversbaan</td><td>2200</td></tr>\n",
       "</table>\n"
      ],
      "text/plain": [
       "+----------+-------+--------------------+------+\n",
       "|Baannummer|   Code|                Naam|Lengte|\n",
       "+----------+-------+--------------------+------+\n",
       "|         1|  09-27| Marloes Boumansbaan|  3200|\n",
       "|         2|18R-36L|Joost van den Bem...|  3600|\n",
       "|         3|18L-36R|Frank de Ruijterbaan|  4000|\n",
       "|         4|18C-36C|Stépan Breedveldbaan|  3500|\n",
       "|         5|  06-24|  Hans Dellebekebaan|  3500|\n",
       "|         6|  04-22|    Sjoerd Eversbaan|  2200|\n",
       "+----------+-------+--------------------+------+"
      ]
     },
     "execution_count": 9,
     "metadata": {},
     "output_type": "execute_result"
    }
   ],
   "source": [
    "\n",
    "banen_schema = StructType([\n",
    "    StructField(\"Baannummer\", IntegerType(), True),\n",
    "    StructField(\"Code\",StringType(),True),\n",
    "    StructField(\"Naam\", StringType(),True),\n",
    "    StructField(\"Lengte\", IntegerType(), True),\n",
    "  ])\n",
    "\n",
    "banen_df = spark.read.csv(\n",
    "    \"./data/export_banen.csv\", \n",
    "    header=True,\n",
    "    sep=';',\n",
    "    schema= banen_schema\n",
    ")\n",
    "\n",
    "try:\n",
    "    banen_df.write.parquet(\"aws/banen.parquet\")\n",
    "except:\n",
    "    print(\"\")\n",
    "banen_df"
   ]
  },
  {
   "cell_type": "markdown",
   "metadata": {},
   "source": [
    "## Maatschappijen"
   ]
  },
  {
   "cell_type": "code",
   "execution_count": 10,
   "metadata": {},
   "outputs": [
    {
     "name": "stdout",
     "output_type": "stream",
     "text": [
      "\n"
     ]
    },
    {
     "data": {
      "text/html": [
       "<table border='1'>\n",
       "<tr><th>Name</th><th>IATA</th><th>ICAO</th></tr>\n",
       "<tr><td>Private flight</td><td>-</td><td>N/A</td></tr>\n",
       "<tr><td>Unknown</td><td>-</td><td>N/A</td></tr>\n",
       "<tr><td>ELK Airways</td><td>--</td><td>ELK</td></tr>\n",
       "<tr><td>Tom\\\\&#x27;s &amp; co airl...</td><td>&amp;T</td><td>T&amp;O</td></tr>\n",
       "<tr><td>Wilderness Air</td><td>;;</td><td>\\N</td></tr>\n",
       "<tr><td>Tyrolean Airways</td><td>\\N</td><td>TYR</td></tr>\n",
       "<tr><td>Whitaker Air</td><td>^^</td><td>\\N</td></tr>\n",
       "<tr><td>U.S. Air</td><td>-+</td><td>--+</td></tr>\n",
       "<tr><td>Bobb Air Freight</td><td>1</td><td>\\N</td></tr>\n",
       "<tr><td>Blue Air</td><td>0B</td><td>JOR</td></tr>\n",
       "<tr><td>Darwin Airline</td><td>0D</td><td>DWT</td></tr>\n",
       "<tr><td>Copenhagen Express</td><td>0X</td><td>CX0</td></tr>\n",
       "<tr><td>TUIfly (X3)</td><td>11</td><td>\\N</td></tr>\n",
       "<tr><td>12 North</td><td>12</td><td>N12</td></tr>\n",
       "<tr><td>Eastern Atlantic ...</td><td>13</td><td>EAV</td></tr>\n",
       "<tr><td>Abacus International</td><td>1B</td><td>null</td></tr>\n",
       "<tr><td>OneChina</td><td>1C</td><td>1CH</td></tr>\n",
       "<tr><td>CB Airways UK ( I...</td><td>1F</td><td>CIF</td></tr>\n",
       "<tr><td>NetJets</td><td>1I</td><td>EJA</td></tr>\n",
       "<tr><td>Novair</td><td>1I</td><td>NVR</td></tr>\n",
       "</table>\n",
       "only showing top 20 rows\n"
      ],
      "text/plain": [
       "+--------------------+----+----+\n",
       "|                Name|IATA|ICAO|\n",
       "+--------------------+----+----+\n",
       "|      Private flight|   -| N/A|\n",
       "|             Unknown|   -| N/A|\n",
       "|         ELK Airways|  --| ELK|\n",
       "|Tom\\\\'s & co airl...|  &T| T&O|\n",
       "|      Wilderness Air|  ;;|  \\N|\n",
       "|    Tyrolean Airways|  \\N| TYR|\n",
       "|        Whitaker Air|  ^^|  \\N|\n",
       "|            U.S. Air|  -+| --+|\n",
       "|    Bobb Air Freight|   1|  \\N|\n",
       "|            Blue Air|  0B| JOR|\n",
       "|      Darwin Airline|  0D| DWT|\n",
       "|  Copenhagen Express|  0X| CX0|\n",
       "|         TUIfly (X3)|  11|  \\N|\n",
       "|            12 North|  12| N12|\n",
       "|Eastern Atlantic ...|  13| EAV|\n",
       "|Abacus International|  1B|null|\n",
       "|            OneChina|  1C| 1CH|\n",
       "|CB Airways UK ( I...|  1F| CIF|\n",
       "|             NetJets|  1I| EJA|\n",
       "|              Novair|  1I| NVR|\n",
       "+--------------------+----+----+\n",
       "only showing top 20 rows"
      ]
     },
     "execution_count": 10,
     "metadata": {},
     "output_type": "execute_result"
    }
   ],
   "source": [
    "maatschappijen_schema = StructType([\n",
    "    StructField(\"Name\", StringType(),True),\n",
    "    StructField(\"IATA\", StringType(), True),\n",
    "    StructField(\"ICAO\",StringType(),True),\n",
    "  ])\n",
    "\n",
    "maatschappijen_df = spark.read.csv(\n",
    "    \"./data/export_maatschappijen.txt\", \n",
    "    header=True,\n",
    "    sep='\\t',\n",
    "    schema=maatschappijen_schema\n",
    ")\n",
    "\n",
    "try:\n",
    "    maatschappijen_df.write.parquet(\"aws/maatschappijen.parquet\")\n",
    "except:\n",
    "    print(\"\")\n",
    "maatschappijen_df"
   ]
  },
  {
   "cell_type": "markdown",
   "metadata": {},
   "source": [
    "## Vlucht"
   ]
  },
  {
   "cell_type": "code",
   "execution_count": 11,
   "metadata": {},
   "outputs": [
    {
     "name": "stdout",
     "output_type": "stream",
     "text": [
      "\n"
     ]
    },
    {
     "data": {
      "text/html": [
       "<table border='1'>\n",
       "<tr><th>Vluchtid</th><th>Vluchtnr</th><th>Airlinecode</th><th>Destcode</th><th>Vliegtuigcode</th><th>Datum</th></tr>\n",
       "<tr><td>935992</td><td>TK297</td><td>TK</td><td>ESB</td><td>VTK297</td><td>2014-01-01</td></tr>\n",
       "<tr><td>935993</td><td>DL5829</td><td>DL</td><td>DTW</td><td>VDL5829</td><td>2014-01-01</td></tr>\n",
       "<tr><td>935994</td><td>SU1831</td><td>SU</td><td>SVO</td><td>VSU1831</td><td>2014-01-01</td></tr>\n",
       "<tr><td>935995</td><td>EZY741</td><td>EZY</td><td>ACE</td><td>VEZY741</td><td>2014-01-01</td></tr>\n",
       "<tr><td>935996</td><td>KL500</td><td>KL</td><td>VIE</td><td>VKL499</td><td>2014-01-01</td></tr>\n",
       "<tr><td>935997</td><td>GA4943</td><td>GA</td><td>CGK</td><td>VGA4943</td><td>2014-01-01</td></tr>\n",
       "<tr><td>935998</td><td>FR734</td><td>FR</td><td>AYT</td><td>VFR735</td><td>2014-01-01</td></tr>\n",
       "<tr><td>935999</td><td>KL316</td><td>KL</td><td>IST</td><td>VKL315</td><td>2014-01-01</td></tr>\n",
       "<tr><td>936000</td><td>HV382</td><td>HV</td><td>FAO</td><td>VHV381</td><td>2014-01-01</td></tr>\n",
       "<tr><td>936001</td><td>HV303</td><td>HV</td><td>ATH</td><td>VHV303</td><td>2014-01-01</td></tr>\n",
       "<tr><td>936002</td><td>BT361</td><td>BT</td><td>VNO</td><td>VBT361</td><td>2014-01-01</td></tr>\n",
       "<tr><td>936003</td><td>DY439</td><td>DY</td><td>HEL</td><td>VDY439</td><td>2014-01-01</td></tr>\n",
       "<tr><td>936004</td><td>EI109</td><td>EI</td><td>DUB</td><td>VEI109</td><td>2014-01-01</td></tr>\n",
       "<tr><td>936005</td><td>AZ577</td><td>AZ</td><td>FCO</td><td>VAZ577</td><td>2014-01-01</td></tr>\n",
       "<tr><td>936006</td><td>KL3124</td><td>KL</td><td>LAX</td><td>VKL3123</td><td>2014-01-01</td></tr>\n",
       "<tr><td>936007</td><td>FR735</td><td>FR</td><td>AYT</td><td>VFR735</td><td>2014-01-01</td></tr>\n",
       "<tr><td>936008</td><td>UA2363</td><td>UA</td><td>IAD</td><td>VUA2363</td><td>2014-01-01</td></tr>\n",
       "<tr><td>936009</td><td>KL301</td><td>KL</td><td>LIS</td><td>VKL301</td><td>2014-01-01</td></tr>\n",
       "<tr><td>936010</td><td>EZY461</td><td>EZY</td><td>GLA</td><td>VEZY461</td><td>2014-01-01</td></tr>\n",
       "<tr><td>936011</td><td>SQ2993</td><td>SQ</td><td>SIN</td><td>VSQ2993</td><td>2014-01-01</td></tr>\n",
       "</table>\n",
       "only showing top 20 rows\n"
      ],
      "text/plain": [
       "+--------+--------+-----------+--------+-------------+----------+\n",
       "|Vluchtid|Vluchtnr|Airlinecode|Destcode|Vliegtuigcode|     Datum|\n",
       "+--------+--------+-----------+--------+-------------+----------+\n",
       "|  935992|   TK297|         TK|     ESB|       VTK297|2014-01-01|\n",
       "|  935993|  DL5829|         DL|     DTW|      VDL5829|2014-01-01|\n",
       "|  935994|  SU1831|         SU|     SVO|      VSU1831|2014-01-01|\n",
       "|  935995|  EZY741|        EZY|     ACE|      VEZY741|2014-01-01|\n",
       "|  935996|   KL500|         KL|     VIE|       VKL499|2014-01-01|\n",
       "|  935997|  GA4943|         GA|     CGK|      VGA4943|2014-01-01|\n",
       "|  935998|   FR734|         FR|     AYT|       VFR735|2014-01-01|\n",
       "|  935999|   KL316|         KL|     IST|       VKL315|2014-01-01|\n",
       "|  936000|   HV382|         HV|     FAO|       VHV381|2014-01-01|\n",
       "|  936001|   HV303|         HV|     ATH|       VHV303|2014-01-01|\n",
       "|  936002|   BT361|         BT|     VNO|       VBT361|2014-01-01|\n",
       "|  936003|   DY439|         DY|     HEL|       VDY439|2014-01-01|\n",
       "|  936004|   EI109|         EI|     DUB|       VEI109|2014-01-01|\n",
       "|  936005|   AZ577|         AZ|     FCO|       VAZ577|2014-01-01|\n",
       "|  936006|  KL3124|         KL|     LAX|      VKL3123|2014-01-01|\n",
       "|  936007|   FR735|         FR|     AYT|       VFR735|2014-01-01|\n",
       "|  936008|  UA2363|         UA|     IAD|      VUA2363|2014-01-01|\n",
       "|  936009|   KL301|         KL|     LIS|       VKL301|2014-01-01|\n",
       "|  936010|  EZY461|        EZY|     GLA|      VEZY461|2014-01-01|\n",
       "|  936011|  SQ2993|         SQ|     SIN|      VSQ2993|2014-01-01|\n",
       "+--------+--------+-----------+--------+-------------+----------+\n",
       "only showing top 20 rows"
      ]
     },
     "execution_count": 11,
     "metadata": {},
     "output_type": "execute_result"
    }
   ],
   "source": [
    "vlucht_schema = StructType([\n",
    "    StructField(\"Vluchtid\", IntegerType(), True),\n",
    "    StructField(\"Vluchtnr\",StringType(),True),\n",
    "    StructField(\"Airlinecode\", StringType(),True),\n",
    "    StructField(\"Destcode\", StringType(), True),\n",
    "    StructField(\"Vliegtuigcode\", StringType(), True),\n",
    "    StructField(\"Datum\", DateType(), True)\n",
    "  ])\n",
    "\n",
    "vlucht_df = spark.read.csv(\n",
    "    \"./data/export_vlucht.txt\", \n",
    "    header=True,\n",
    "    sep='\\t',\n",
    "    schema=vlucht_schema\n",
    ")\n",
    "\n",
    "try:\n",
    "    vlucht_df.write.parquet(\"aws/vlucht.parquet\")\n",
    "except:\n",
    "    print(\"\")\n",
    "vlucht_df\n"
   ]
  },
  {
   "cell_type": "markdown",
   "metadata": {},
   "source": [
    "## Vliegtuig"
   ]
  },
  {
   "cell_type": "code",
   "execution_count": 12,
   "metadata": {},
   "outputs": [
    {
     "name": "stdout",
     "output_type": "stream",
     "text": [
      "\n"
     ]
    },
    {
     "data": {
      "text/html": [
       "<table border='1'>\n",
       "<tr><th>Airlinecode</th><th>Vliegtuigcode</th><th>Vliegtuigtype</th><th>Bouwjaar</th></tr>\n",
       "<tr><td>TK</td><td>VTK297</td><td>321</td><td>1970</td></tr>\n",
       "<tr><td>DL</td><td>VDL5829</td><td>320</td><td>2007</td></tr>\n",
       "<tr><td>SU</td><td>VSU1831</td><td>321</td><td>2012</td></tr>\n",
       "<tr><td>EZY</td><td>VEZY741</td><td>738</td><td>1978</td></tr>\n",
       "<tr><td>KL</td><td>VKL499</td><td>738</td><td>1982</td></tr>\n",
       "<tr><td>GA</td><td>VGA4943</td><td>752</td><td>1982</td></tr>\n",
       "<tr><td>FR</td><td>VFR735</td><td>320</td><td>1984</td></tr>\n",
       "<tr><td>KL</td><td>VKL315</td><td>73G</td><td>1971</td></tr>\n",
       "<tr><td>HV</td><td>VHV381</td><td>772</td><td>2003</td></tr>\n",
       "<tr><td>HV</td><td>VHV303</td><td>73G</td><td>2009</td></tr>\n",
       "<tr><td>BT</td><td>VBT361</td><td>F70</td><td>2013</td></tr>\n",
       "<tr><td>DY</td><td>VDY439</td><td>738</td><td>1987</td></tr>\n",
       "<tr><td>EI</td><td>VEI109</td><td>319</td><td>1983</td></tr>\n",
       "<tr><td>AZ</td><td>VAZ577</td><td>73G</td><td>1998</td></tr>\n",
       "<tr><td>KL</td><td>VKL3123</td><td>772</td><td>1992</td></tr>\n",
       "<tr><td>UA</td><td>VUA2363</td><td>764</td><td>1975</td></tr>\n",
       "<tr><td>KL</td><td>VKL301</td><td>738</td><td>2009</td></tr>\n",
       "<tr><td>EZY</td><td>VEZY461</td><td>738</td><td>1988</td></tr>\n",
       "<tr><td>SQ</td><td>VSQ2993</td><td>359</td><td>1992</td></tr>\n",
       "<tr><td>TK</td><td>VTK505</td><td>321</td><td>1984</td></tr>\n",
       "</table>\n",
       "only showing top 20 rows\n"
      ],
      "text/plain": [
       "+-----------+-------------+-------------+--------+\n",
       "|Airlinecode|Vliegtuigcode|Vliegtuigtype|Bouwjaar|\n",
       "+-----------+-------------+-------------+--------+\n",
       "|         TK|       VTK297|          321|    1970|\n",
       "|         DL|      VDL5829|          320|    2007|\n",
       "|         SU|      VSU1831|          321|    2012|\n",
       "|        EZY|      VEZY741|          738|    1978|\n",
       "|         KL|       VKL499|          738|    1982|\n",
       "|         GA|      VGA4943|          752|    1982|\n",
       "|         FR|       VFR735|          320|    1984|\n",
       "|         KL|       VKL315|          73G|    1971|\n",
       "|         HV|       VHV381|          772|    2003|\n",
       "|         HV|       VHV303|          73G|    2009|\n",
       "|         BT|       VBT361|          F70|    2013|\n",
       "|         DY|       VDY439|          738|    1987|\n",
       "|         EI|       VEI109|          319|    1983|\n",
       "|         AZ|       VAZ577|          73G|    1998|\n",
       "|         KL|      VKL3123|          772|    1992|\n",
       "|         UA|      VUA2363|          764|    1975|\n",
       "|         KL|       VKL301|          738|    2009|\n",
       "|        EZY|      VEZY461|          738|    1988|\n",
       "|         SQ|      VSQ2993|          359|    1992|\n",
       "|         TK|       VTK505|          321|    1984|\n",
       "+-----------+-------------+-------------+--------+\n",
       "only showing top 20 rows"
      ]
     },
     "execution_count": 12,
     "metadata": {},
     "output_type": "execute_result"
    }
   ],
   "source": [
    "vliegtuig_schema = StructType([\n",
    "    StructField(\"Airlinecode\", StringType(),True),\n",
    "    StructField(\"Vliegtuigcode\", StringType(), True),\n",
    "    StructField(\"Vliegtuigtype\",StringType(),True),\n",
    "    StructField(\"Bouwjaar\", IntegerType(), True)\n",
    "  ])\n",
    "\n",
    "vliegtuig_df = spark.read.csv(\n",
    "    \"./data/export_vliegtuig.txt\", \n",
    "    header=True,\n",
    "    sep='\\t',\n",
    "    schema=vliegtuig_schema\n",
    ")\n",
    "\n",
    "try:\n",
    "    vliegtuig_df.write.parquet(\"aws/vliegtuig.parquet\")\n",
    "except:\n",
    "    print(\"\")\n",
    "vliegtuig_df"
   ]
  },
  {
   "cell_type": "markdown",
   "metadata": {},
   "source": [
    "## Vliegtuigtype"
   ]
  },
  {
   "cell_type": "code",
   "execution_count": 13,
   "metadata": {},
   "outputs": [
    {
     "name": "stdout",
     "output_type": "stream",
     "text": [
      "\n"
     ]
    },
    {
     "data": {
      "text/html": [
       "<table border='1'>\n",
       "<tr><th>IATA</th><th>ICAO</th><th>Merk</th><th>Type</th><th>Wake</th><th>Cat</th><th>Capaciteit</th><th>Vracht</th></tr>\n",
       "<tr><td>100</td><td>F100</td><td>Fokker</td><td>Fokker 100</td><td>M</td><td>Pax</td><td>100</td><td>2</td></tr>\n",
       "<tr><td>141</td><td>B461</td><td>British Aerospace</td><td>BAe 146-100 Pax</td><td>M</td><td>Pax</td><td>105</td><td>5</td></tr>\n",
       "<tr><td>142</td><td>B462</td><td>British Aerospace</td><td>BAe 146-200 Pax</td><td>M</td><td>Pax</td><td>115</td><td>5</td></tr>\n",
       "<tr><td>143</td><td>B463</td><td>British Aerospace</td><td>BAe 146-300 Pax</td><td>M</td><td>Pax</td><td>130</td><td>5</td></tr>\n",
       "<tr><td>146</td><td>null</td><td>British Aerospace</td><td>BAe 146 all pax m...</td><td>M</td><td>Pax</td><td>null</td><td>null</td></tr>\n",
       "<tr><td>310</td><td>A310</td><td>Airbus</td><td>Airbus A310 all p...</td><td>H</td><td>Pax</td><td>250</td><td>5</td></tr>\n",
       "<tr><td>312</td><td>A310</td><td>Airbus</td><td>Airbus A310-200 pax</td><td>H</td><td>Pax</td><td>250</td><td>5</td></tr>\n",
       "<tr><td>313</td><td>A310</td><td>Airbus</td><td>Airbus A310-300 pax</td><td>H</td><td>Pax</td><td>250</td><td>5</td></tr>\n",
       "<tr><td>318</td><td>A318</td><td>Airbus</td><td>Airbus A318</td><td>M</td><td>Pax</td><td>105</td><td>8</td></tr>\n",
       "<tr><td>319</td><td>A319</td><td>Airbus</td><td>Airbus A319</td><td>M</td><td>Pax</td><td>125</td><td>8</td></tr>\n",
       "<tr><td>320</td><td>A320</td><td>Airbus</td><td>Airbus A320-100/200</td><td>M</td><td>Pax</td><td>150</td><td>8</td></tr>\n",
       "<tr><td>321</td><td>A321</td><td>Airbus</td><td>Airbus A321-100/200</td><td>M</td><td>Pax</td><td>185</td><td>8</td></tr>\n",
       "<tr><td>330</td><td>A330</td><td>Airbus</td><td>Airbus A330 all m...</td><td>H</td><td>Pax</td><td>250</td><td>8</td></tr>\n",
       "<tr><td>332</td><td>A332</td><td>Airbus</td><td>Airbus A330-200</td><td>H</td><td>Pax</td><td>246</td><td>8</td></tr>\n",
       "<tr><td>333</td><td>A333</td><td>Airbus</td><td>Airbus A330-300</td><td>H</td><td>Pax</td><td>300</td><td>8</td></tr>\n",
       "<tr><td>340</td><td>A340</td><td>Airbus</td><td>Airbus A340 all m...</td><td>H</td><td>Pax</td><td>310</td><td>8</td></tr>\n",
       "<tr><td>342</td><td>A342</td><td>Airbus</td><td>Airbus A340-200</td><td>H</td><td>Pax</td><td>310</td><td>8</td></tr>\n",
       "<tr><td>343</td><td>A343</td><td>Airbus</td><td>Airbus A340-300</td><td>H</td><td>Pax</td><td>340</td><td>8</td></tr>\n",
       "<tr><td>345</td><td>A345</td><td>Airbus</td><td>Airbus A340-500</td><td>H</td><td>Pax</td><td>340</td><td>8</td></tr>\n",
       "<tr><td>346</td><td>A346</td><td>Airbus</td><td>Airbus A340-600</td><td>H</td><td>Pax</td><td>340</td><td>8</td></tr>\n",
       "</table>\n",
       "only showing top 20 rows\n"
      ],
      "text/plain": [
       "+----+----+-----------------+--------------------+----+---+----------+------+\n",
       "|IATA|ICAO|             Merk|                Type|Wake|Cat|Capaciteit|Vracht|\n",
       "+----+----+-----------------+--------------------+----+---+----------+------+\n",
       "| 100|F100|           Fokker|          Fokker 100|   M|Pax|       100|     2|\n",
       "| 141|B461|British Aerospace|     BAe 146-100 Pax|   M|Pax|       105|     5|\n",
       "| 142|B462|British Aerospace|     BAe 146-200 Pax|   M|Pax|       115|     5|\n",
       "| 143|B463|British Aerospace|     BAe 146-300 Pax|   M|Pax|       130|     5|\n",
       "| 146|null|British Aerospace|BAe 146 all pax m...|   M|Pax|      null|  null|\n",
       "| 310|A310|           Airbus|Airbus A310 all p...|   H|Pax|       250|     5|\n",
       "| 312|A310|           Airbus| Airbus A310-200 pax|   H|Pax|       250|     5|\n",
       "| 313|A310|           Airbus| Airbus A310-300 pax|   H|Pax|       250|     5|\n",
       "| 318|A318|           Airbus|         Airbus A318|   M|Pax|       105|     8|\n",
       "| 319|A319|           Airbus|         Airbus A319|   M|Pax|       125|     8|\n",
       "| 320|A320|           Airbus| Airbus A320-100/200|   M|Pax|       150|     8|\n",
       "| 321|A321|           Airbus| Airbus A321-100/200|   M|Pax|       185|     8|\n",
       "| 330|A330|           Airbus|Airbus A330 all m...|   H|Pax|       250|     8|\n",
       "| 332|A332|           Airbus|     Airbus A330-200|   H|Pax|       246|     8|\n",
       "| 333|A333|           Airbus|     Airbus A330-300|   H|Pax|       300|     8|\n",
       "| 340|A340|           Airbus|Airbus A340 all m...|   H|Pax|       310|     8|\n",
       "| 342|A342|           Airbus|     Airbus A340-200|   H|Pax|       310|     8|\n",
       "| 343|A343|           Airbus|     Airbus A340-300|   H|Pax|       340|     8|\n",
       "| 345|A345|           Airbus|     Airbus A340-500|   H|Pax|       340|     8|\n",
       "| 346|A346|           Airbus|     Airbus A340-600|   H|Pax|       340|     8|\n",
       "+----+----+-----------------+--------------------+----+---+----------+------+\n",
       "only showing top 20 rows"
      ]
     },
     "execution_count": 13,
     "metadata": {},
     "output_type": "execute_result"
    }
   ],
   "source": [
    "#VliegtuigType\n",
    "\n",
    "vliegtuig_type_schema = StructType([\n",
    "    StructField(\"IATA\", StringType(), True),\n",
    "    StructField(\"ICAO\",StringType(),True),\n",
    "    StructField(\"Merk\", StringType(),True),\n",
    "    StructField(\"Type\", StringType(), True),\n",
    "    StructField(\"Wake\", StringType(), True),\n",
    "    StructField(\"Cat\", StringType(), True),\n",
    "    StructField(\"Capaciteit\", IntegerType(), True),\n",
    "    StructField(\"Vracht\", IntegerType(), True)\n",
    "  ])\n",
    "\n",
    "vliegtuig_type_df = spark.read.csv(\n",
    "    \"./data/export_vliegtuigtype.csv\", \n",
    "    header=True,\n",
    "    sep=';',\n",
    "    schema=vliegtuig_type_schema\n",
    ")\n",
    "\n",
    "try:\n",
    "    vliegtuig_type_df.write.parquet(\"aws/vliegtuig_type.parquet\")\n",
    "except:\n",
    "    print(\"\")\n",
    "vliegtuig_type_df"
   ]
  },
  {
   "cell_type": "markdown",
   "metadata": {},
   "source": [
    "# Tensorflow"
   ]
  },
  {
   "cell_type": "code",
   "execution_count": 14,
   "metadata": {},
   "outputs": [
    {
     "data": {
      "text/html": [
       "<div>\n",
       "<style scoped>\n",
       "    .dataframe tbody tr th:only-of-type {\n",
       "        vertical-align: middle;\n",
       "    }\n",
       "\n",
       "    .dataframe tbody tr th {\n",
       "        vertical-align: top;\n",
       "    }\n",
       "\n",
       "    .dataframe thead th {\n",
       "        text-align: right;\n",
       "    }\n",
       "</style>\n",
       "<table border=\"1\" class=\"dataframe\">\n",
       "  <thead>\n",
       "    <tr style=\"text-align: right;\">\n",
       "      <th></th>\n",
       "      <th>baan</th>\n",
       "      <th>bezetting</th>\n",
       "      <th>operation</th>\n",
       "      <th>code</th>\n",
       "      <th>lengte</th>\n",
       "      <th>destcode</th>\n",
       "      <th>vliegtuigtype</th>\n",
       "      <th>bouwjaar</th>\n",
       "      <th>merk</th>\n",
       "      <th>type</th>\n",
       "      <th>...</th>\n",
       "      <th>wake</th>\n",
       "      <th>cat</th>\n",
       "      <th>capaciteit</th>\n",
       "      <th>airport</th>\n",
       "      <th>city</th>\n",
       "      <th>country</th>\n",
       "      <th>lat</th>\n",
       "      <th>lon</th>\n",
       "      <th>alt</th>\n",
       "      <th>vertraging_min</th>\n",
       "    </tr>\n",
       "  </thead>\n",
       "  <tbody>\n",
       "    <tr>\n",
       "      <th>187</th>\n",
       "      <td>3</td>\n",
       "      <td>61</td>\n",
       "      <td>76.0</td>\n",
       "      <td>18L-36R</td>\n",
       "      <td>4000</td>\n",
       "      <td>JFK</td>\n",
       "      <td>763</td>\n",
       "      <td>1998</td>\n",
       "      <td>Boeing</td>\n",
       "      <td>Boeing 767-300 pax</td>\n",
       "      <td>...</td>\n",
       "      <td>H</td>\n",
       "      <td>Pax</td>\n",
       "      <td>250</td>\n",
       "      <td>John F Kennedy Intl</td>\n",
       "      <td>New York</td>\n",
       "      <td>United States</td>\n",
       "      <td>40.63975</td>\n",
       "      <td>-73.77892</td>\n",
       "      <td>13</td>\n",
       "      <td>58.0</td>\n",
       "    </tr>\n",
       "    <tr>\n",
       "      <th>258</th>\n",
       "      <td>1</td>\n",
       "      <td>66</td>\n",
       "      <td>66.0</td>\n",
       "      <td>09-27</td>\n",
       "      <td>3200</td>\n",
       "      <td>JFK</td>\n",
       "      <td>763</td>\n",
       "      <td>1998</td>\n",
       "      <td>Boeing</td>\n",
       "      <td>Boeing 767-300 pax</td>\n",
       "      <td>...</td>\n",
       "      <td>H</td>\n",
       "      <td>Pax</td>\n",
       "      <td>250</td>\n",
       "      <td>John F Kennedy Intl</td>\n",
       "      <td>New York</td>\n",
       "      <td>United States</td>\n",
       "      <td>40.63975</td>\n",
       "      <td>-73.77892</td>\n",
       "      <td>13</td>\n",
       "      <td>57.0</td>\n",
       "    </tr>\n",
       "    <tr>\n",
       "      <th>349</th>\n",
       "      <td>1</td>\n",
       "      <td>64</td>\n",
       "      <td>70.0</td>\n",
       "      <td>09-27</td>\n",
       "      <td>3200</td>\n",
       "      <td>JFK</td>\n",
       "      <td>763</td>\n",
       "      <td>1998</td>\n",
       "      <td>Boeing</td>\n",
       "      <td>Boeing 767-300 pax</td>\n",
       "      <td>...</td>\n",
       "      <td>H</td>\n",
       "      <td>Pax</td>\n",
       "      <td>250</td>\n",
       "      <td>John F Kennedy Intl</td>\n",
       "      <td>New York</td>\n",
       "      <td>United States</td>\n",
       "      <td>40.63975</td>\n",
       "      <td>-73.77892</td>\n",
       "      <td>13</td>\n",
       "      <td>73.0</td>\n",
       "    </tr>\n",
       "    <tr>\n",
       "      <th>375</th>\n",
       "      <td>3</td>\n",
       "      <td>67</td>\n",
       "      <td>76.0</td>\n",
       "      <td>18L-36R</td>\n",
       "      <td>4000</td>\n",
       "      <td>JFK</td>\n",
       "      <td>763</td>\n",
       "      <td>1998</td>\n",
       "      <td>Boeing</td>\n",
       "      <td>Boeing 767-300 pax</td>\n",
       "      <td>...</td>\n",
       "      <td>H</td>\n",
       "      <td>Pax</td>\n",
       "      <td>250</td>\n",
       "      <td>John F Kennedy Intl</td>\n",
       "      <td>New York</td>\n",
       "      <td>United States</td>\n",
       "      <td>40.63975</td>\n",
       "      <td>-73.77892</td>\n",
       "      <td>13</td>\n",
       "      <td>54.0</td>\n",
       "    </tr>\n",
       "    <tr>\n",
       "      <th>610</th>\n",
       "      <td>3</td>\n",
       "      <td>92</td>\n",
       "      <td>72.0</td>\n",
       "      <td>18L-36R</td>\n",
       "      <td>4000</td>\n",
       "      <td>JFK</td>\n",
       "      <td>763</td>\n",
       "      <td>1998</td>\n",
       "      <td>Boeing</td>\n",
       "      <td>Boeing 767-300 pax</td>\n",
       "      <td>...</td>\n",
       "      <td>H</td>\n",
       "      <td>Pax</td>\n",
       "      <td>250</td>\n",
       "      <td>John F Kennedy Intl</td>\n",
       "      <td>New York</td>\n",
       "      <td>United States</td>\n",
       "      <td>40.63975</td>\n",
       "      <td>-73.77892</td>\n",
       "      <td>13</td>\n",
       "      <td>77.0</td>\n",
       "    </tr>\n",
       "  </tbody>\n",
       "</table>\n",
       "<p>5 rows × 21 columns</p>\n",
       "</div>"
      ],
      "text/plain": [
       "     baan  bezetting  operation     code  lengte destcode vliegtuigtype  \\\n",
       "187     3         61       76.0  18L-36R    4000      JFK           763   \n",
       "258     1         66       66.0    09-27    3200      JFK           763   \n",
       "349     1         64       70.0    09-27    3200      JFK           763   \n",
       "375     3         67       76.0  18L-36R    4000      JFK           763   \n",
       "610     3         92       72.0  18L-36R    4000      JFK           763   \n",
       "\n",
       "     bouwjaar    merk                type  ...  wake  cat capaciteit  \\\n",
       "187      1998  Boeing  Boeing 767-300 pax  ...     H  Pax        250   \n",
       "258      1998  Boeing  Boeing 767-300 pax  ...     H  Pax        250   \n",
       "349      1998  Boeing  Boeing 767-300 pax  ...     H  Pax        250   \n",
       "375      1998  Boeing  Boeing 767-300 pax  ...     H  Pax        250   \n",
       "610      1998  Boeing  Boeing 767-300 pax  ...     H  Pax        250   \n",
       "\n",
       "                 airport      city        country       lat       lon  alt  \\\n",
       "187  John F Kennedy Intl  New York  United States  40.63975 -73.77892   13   \n",
       "258  John F Kennedy Intl  New York  United States  40.63975 -73.77892   13   \n",
       "349  John F Kennedy Intl  New York  United States  40.63975 -73.77892   13   \n",
       "375  John F Kennedy Intl  New York  United States  40.63975 -73.77892   13   \n",
       "610  John F Kennedy Intl  New York  United States  40.63975 -73.77892   13   \n",
       "\n",
       "     vertraging_min  \n",
       "187            58.0  \n",
       "258            57.0  \n",
       "349            73.0  \n",
       "375            54.0  \n",
       "610            77.0  \n",
       "\n",
       "[5 rows x 21 columns]"
      ]
     },
     "execution_count": 14,
     "metadata": {},
     "output_type": "execute_result"
    }
   ],
   "source": [
    "facts = pd.read_csv(\"./data/vertrek_facts.csv\")\n",
    "\n",
    "facts = facts.dropna(subset=['operation'])\n",
    "facts['operation'] = facts['operation'].apply(lambda x: x*10)\n",
    "facts = facts.drop(columns=['vracht', 'shops', 'facilities', 'vertrektijd', 'plantijd', 'plantijd','name', 'datum','vliegtuigcode', 'vluchtid', 'gate', 'plangate', 'terminal', 'planterminal', 'airlinecode', 'naam', 'windsnelheid_gem', 'temp_gem', 'neerslag_som', 'opgetreden_zicht_max', 'vluchtnr', 'dst']).dropna(subset=['vracht_vliegtuigtype'])\n",
    "\n",
    "facts.head()"
   ]
  },
  {
   "cell_type": "code",
   "execution_count": 15,
   "metadata": {},
   "outputs": [],
   "source": [
    "feats = ['merk', 'type', 'wake', 'cat','code', 'vliegtuigtype','type', 'destcode','airport', 'country', 'city']\n",
    "facts_final = pd.get_dummies(facts,columns=feats,drop_first=True)\n",
    "\n",
    "x = facts_final.drop(['operation'],axis=1).values\n",
    "y = facts_final['operation'].values\n",
    "\n",
    "x_train, x_test, y_train, y_test = train_test_split(x, y, test_size=0.3)"
   ]
  },
  {
   "cell_type": "code",
   "execution_count": 16,
   "metadata": {},
   "outputs": [],
   "source": [
    "scaler = StandardScaler()\n",
    "x_train = scaler.fit_transform(x_train)\n",
    "x_test = scaler.transform(x_test)"
   ]
  },
  {
   "cell_type": "code",
   "execution_count": 17,
   "metadata": {},
   "outputs": [
    {
     "name": "stderr",
     "output_type": "stream",
     "text": [
      "2021-12-21 23:21:18.456750: I tensorflow/stream_executor/cuda/cuda_gpu_executor.cc:939] successful NUMA node read from SysFS had negative value (-1), but there must be at least one NUMA node, so returning NUMA node zero\n",
      "2021-12-21 23:21:18.460156: W tensorflow/stream_executor/platform/default/dso_loader.cc:64] Could not load dynamic library 'libcusolver.so.11'; dlerror: libcusolver.so.11: cannot open shared object file: No such file or directory\n",
      "2021-12-21 23:21:18.460884: W tensorflow/core/common_runtime/gpu/gpu_device.cc:1850] Cannot dlopen some GPU libraries. Please make sure the missing libraries mentioned above are installed properly if you would like to use GPU. Follow the guide at https://www.tensorflow.org/install/gpu for how to download and setup the required libraries for your platform.\n",
      "Skipping registering GPU devices...\n",
      "2021-12-21 23:21:18.461463: I tensorflow/core/platform/cpu_feature_guard.cc:151] This TensorFlow binary is optimized with oneAPI Deep Neural Network Library (oneDNN) to use the following CPU instructions in performance-critical operations:  AVX2 FMA\n",
      "To enable them in other operations, rebuild TensorFlow with the appropriate compiler flags.\n"
     ]
    },
    {
     "name": "stdout",
     "output_type": "stream",
     "text": [
      "Epoch 1/15\n",
      "44/44 [==============================] - 0s 4ms/step - loss: 1710.4712 - accuracy: 0.0142\n",
      "Epoch 2/15\n",
      "44/44 [==============================] - 0s 3ms/step - loss: 144.0029 - accuracy: 0.0171\n",
      "Epoch 3/15\n",
      "44/44 [==============================] - 0s 3ms/step - loss: 96.5561 - accuracy: 0.0078\n",
      "Epoch 4/15\n",
      "44/44 [==============================] - 0s 3ms/step - loss: 90.7780 - accuracy: 0.0192\n",
      "Epoch 5/15\n",
      "44/44 [==============================] - 0s 3ms/step - loss: 83.4502 - accuracy: 0.0128\n",
      "Epoch 6/15\n",
      "44/44 [==============================] - 0s 4ms/step - loss: 80.7364 - accuracy: 0.0100\n",
      "Epoch 7/15\n",
      "44/44 [==============================] - 0s 3ms/step - loss: 77.5318 - accuracy: 0.0114\n",
      "Epoch 8/15\n",
      "44/44 [==============================] - 0s 3ms/step - loss: 78.5654 - accuracy: 0.0142\n",
      "Epoch 9/15\n",
      "44/44 [==============================] - 0s 4ms/step - loss: 74.2134 - accuracy: 0.0092\n",
      "Epoch 10/15\n",
      "44/44 [==============================] - 0s 4ms/step - loss: 72.0870 - accuracy: 0.0078\n",
      "Epoch 11/15\n",
      "44/44 [==============================] - 0s 3ms/step - loss: 69.1006 - accuracy: 0.0107\n",
      "Epoch 12/15\n",
      "44/44 [==============================] - 0s 3ms/step - loss: 67.1893 - accuracy: 0.0135\n",
      "Epoch 13/15\n",
      "44/44 [==============================] - 0s 4ms/step - loss: 69.0812 - accuracy: 0.0121\n",
      "Epoch 14/15\n",
      "44/44 [==============================] - 0s 3ms/step - loss: 63.3722 - accuracy: 0.0078\n",
      "Epoch 15/15\n",
      "44/44 [==============================] - 0s 4ms/step - loss: 58.0928 - accuracy: 0.0121\n"
     ]
    },
    {
     "data": {
      "text/plain": [
       "<keras.callbacks.History at 0x7f2924e239a0>"
      ]
     },
     "execution_count": 17,
     "metadata": {},
     "output_type": "execute_result"
    }
   ],
   "source": [
    "model = Sequential()\n",
    "model.add(Dense(800, activation='relu', input_dim=x_train.shape[1]))\n",
    "model.add(Dense(400, activation = \"relu\"))\n",
    "model.add(Dense(200, activation = \"relu\"))\n",
    "model.add(Dropout(.1))\n",
    "model.add(Dense(100))\n",
    "\n",
    "model.compile(optimizer= \"adam\",loss = \"mean_squared_error\",metrics = [\"accuracy\"])\n",
    "\n",
    "model.fit(x_train, y_train, epochs = 15)"
   ]
  },
  {
   "cell_type": "code",
   "execution_count": 18,
   "metadata": {},
   "outputs": [
    {
     "data": {
      "text/plain": [
       "6.6"
      ]
     },
     "execution_count": 18,
     "metadata": {},
     "output_type": "execute_result"
    }
   ],
   "source": [
    "facts[\"operation\"].iloc[1]/10"
   ]
  },
  {
   "cell_type": "code",
   "execution_count": 19,
   "metadata": {},
   "outputs": [
    {
     "name": "stdout",
     "output_type": "stream",
     "text": [
      "4.0\n"
     ]
    }
   ],
   "source": [
    "prediction = model.predict(x_train)\n",
    "guess = np.argmax(prediction[1])\n",
    "print(guess/10)"
   ]
  },
  {
   "cell_type": "code",
   "execution_count": 20,
   "metadata": {},
   "outputs": [
    {
     "name": "stdout",
     "output_type": "stream",
     "text": [
      "Merk:  -0.013015843728183506\n",
      "Type: -0.03316365001409106\n",
      "Cat: nan\n",
      "Code: 0.04654339294085504\n",
      "Destcode: -0.02973566265508927\n",
      "Airport: -0.02005505872328328\n",
      "Country: 0.00952505170318679\n",
      "City: -0.02813864735010377\n",
      "Bezetting: -0.0428534895047835\n",
      "Lengte: 0.09972965566596169\n",
      "Baan: -0.004949962709032542\n",
      "Bouwjaar: -0.044185068188028406\n",
      "Lat: 0.0570387511071401\n",
      "Lon: -0.015722021437659477\n",
      "Alt: 0.04598339622852409\n",
      "Vertraging in minuten: -0.282294634094083\n"
     ]
    }
   ],
   "source": [
    "print(f'Merk:  {stats.spearmanr(facts[\"merk\"], facts[\"operation\"])[0]}')\n",
    "print(f'Type: {stats.spearmanr(facts[\"type\"], facts[\"operation\"])[0]}')\n",
    "print(f'Cat: {stats.spearmanr(facts[\"cat\"], facts[\"operation\"])[0]}')\n",
    "print(f'Code: {stats.spearmanr(facts[\"code\"], facts[\"operation\"])[0]}')\n",
    "print(f'Destcode: {stats.spearmanr(facts[\"destcode\"], facts[\"operation\"])[0]}')\n",
    "print(f'Airport: {stats.spearmanr(facts[\"airport\"], facts[\"operation\"])[0]}')\n",
    "print(f'Country: {stats.spearmanr(facts[\"country\"], facts[\"operation\"])[0]}')\n",
    "print(f'City: {stats.spearmanr(facts[\"city\"], facts[\"operation\"])[0]}')\n",
    "print(f'Bezetting: {stats.spearmanr(facts[\"bezetting\"], facts[\"operation\"])[0]}')\n",
    "print(f'Lengte: {stats.spearmanr(facts[\"lengte\"], facts[\"operation\"])[0]}')\n",
    "print(f'Baan: {stats.spearmanr(facts[\"baan\"], facts[\"operation\"])[0]}')\n",
    "print(f'Bouwjaar: {stats.spearmanr(facts[\"bouwjaar\"], facts[\"operation\"])[0]}')\n",
    "print(f'Lat: {stats.spearmanr(facts[\"lat\"], facts[\"operation\"])[0]}')\n",
    "print(f'Lon: {stats.spearmanr(facts[\"lon\"], facts[\"operation\"])[0]}')\n",
    "print(f'Alt: {stats.spearmanr(facts[\"alt\"], facts[\"operation\"])[0]}')\n",
    "print(f'Vertraging in minuten: {stats.spearmanr(facts[\"vertraging_min\"], facts[\"operation\"])[0]}')"
   ]
  },
  {
   "cell_type": "markdown",
   "metadata": {},
   "source": [
    "# Conclusie"
   ]
  },
  {
   "cell_type": "markdown",
   "metadata": {},
   "source": [
    "Uit de verschillende spearman correlatiewaarden kunnen we lezen dat vertraging veruit de grootste impact heeft op de opinie van de klanten."
   ]
  },
  {
   "cell_type": "markdown",
   "metadata": {},
   "source": []
  }
 ],
 "metadata": {
  "interpreter": {
   "hash": "31f2aee4e71d21fbe5cf8b01ff0e069b9275f58929596ceb00d14d90e3e16cd6"
  },
  "kernelspec": {
   "display_name": "Python 3.9.5 64-bit",
   "name": "python3"
  },
  "language_info": {
   "codemirror_mode": {
    "name": "ipython",
    "version": 3
   },
   "file_extension": ".py",
   "mimetype": "text/x-python",
   "name": "python",
   "nbconvert_exporter": "python",
   "pygments_lexer": "ipython3",
   "version": "3.9.7"
  },
  "orig_nbformat": 4
 },
 "nbformat": 4,
 "nbformat_minor": 2
}
